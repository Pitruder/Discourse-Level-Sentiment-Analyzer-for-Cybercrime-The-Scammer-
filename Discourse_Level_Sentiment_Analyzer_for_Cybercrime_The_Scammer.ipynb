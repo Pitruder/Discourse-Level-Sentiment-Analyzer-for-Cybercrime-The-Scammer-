{
  "nbformat": 4,
  "nbformat_minor": 0,
  "metadata": {
    "colab": {
      "provenance": [],
      "toc_visible": true
    },
    "kernelspec": {
      "name": "python3",
      "display_name": "Python 3"
    },
    "language_info": {
      "name": "python"
    }
  },
  "cells": [
    {
      "cell_type": "markdown",
      "source": [
        "#**Discourse-Level Sentiment Analyzer for Cybercrime (The Scammer)**"
      ],
      "metadata": {
        "id": "3wMIVrCO4X-T"
      }
    },
    {
      "cell_type": "markdown",
      "source": [
        "###- This project presents a comprehensive study on developing a Discourse Level Sentiment Analyzer (DLSA) specifically designed for detecting Cyber Scams that utilized pressure and coercive language.\n",
        "###- This project aims to extend the research conducted by (Mathias Kraus, 2019) by applying and evaluating their discourse-aware sentiment analysis solution in the context of scams.\n",
        "###- The research focuses on addressing the limitations of conventional sentiment analysis tools that neglect the semantic coherence in textual data.\n",
        "###- By incorporating Rhetorical Structure Theory (RST), the study aims to identify and analyze the discourse-level sentiment of scammers, particularly the use of pressure and coercive language in digital communications.\n"
      ],
      "metadata": {
        "id": "jONWCnQT4l_b"
      }
    },
    {
      "cell_type": "markdown",
      "source": [
        "## **Reference**\n",
        "### Mathias Kraus, S. F. (2019). Sentiment analysis based on rhetorical structure theory:Learning deep neural networks from discourse trees. Expert Systems withApplications, 118, 65-79. doi:https://doi.org/10.1016/j.eswa.2018.10.002"
      ],
      "metadata": {
        "id": "uldiMXv8DzFa"
      }
    },
    {
      "cell_type": "markdown",
      "source": [
        "##**Data Collection**\n",
        "### There are two types of data that are required in this project: scams text that utilize pressure and coercion & non-(scams text that utilize pressure and coercion).\n",
        "### **Scam Data:** Sample scams text data were collected from the internet, specifically by transfering text from google images into excel files. Few data pertaining to scams that utilize pressure and coercion could be found. The project create a solution by using LLM to populate the data.\n",
        "### **Non Scam Data:** Data akin to that encountered in pressure and coercive scams were collected. It was sourced from Kaggle repository as part of the [Spam/Ham Detection using LSTM](https://www.kaggle.com/code/gadaadhaarigeek/spam-ham-detection-using-lstm/input). Upon acquisition, the dataset underwent a filtering process to isolate the spam-related content.\n",
        "\n"
      ],
      "metadata": {
        "id": "sujsmr8rAxEP"
      }
    },
    {
      "cell_type": "markdown",
      "source": [
        "##**Pressure and Coercion Lexicon**\n",
        "### The development of lexicon related to pressure and coercion scam is crucial to complement SentiWordNet 3.0 in assigning polarity score to sentences/discourse. The development steps are as follows:\n",
        "\n",
        "###1.   Identifying words/cues related to pressure and coercion present in the dataset\n",
        "###2.   Development of of a new lexicon which is called ScamWordNet\n",
        "\n"
      ],
      "metadata": {
        "id": "0j3yt-KyPIED"
      }
    },
    {
      "cell_type": "markdown",
      "source": [
        "##**Text Preprocessing**\n",
        "### Raw dataset undergone text preprocessing such as:\n",
        "*   Tokenization\n",
        "*   Sentence Split\n",
        "*   Part of Speech Tagging\n",
        "*   Lemmatization\n",
        "*   Name Entity Recognition\n",
        "\n",
        "###This done by using an open-source library for natural language analysis tools called [CoreNLP](https://stanfordnlp.github.io/CoreNLP/index.html)\n",
        "\n"
      ],
      "metadata": {
        "id": "bHlDH7lVQQx5"
      }
    },
    {
      "cell_type": "markdown",
      "source": [
        "##**Discourse Parsing**\n",
        "###The preprocessed dataset was converted into a discourse units by using a pre-built parser developed by (Ji et al., 2014) called [RST parser](https://github.com/jiyfeng/DPLP/tree/master)"
      ],
      "metadata": {
        "id": "r77U-A-XRTJ3"
      }
    },
    {
      "cell_type": "markdown",
      "source": [
        "## **Initialization**\n",
        "### Load data into environment and import required libraries."
      ],
      "metadata": {
        "id": "NQahC0WCHGbA"
      }
    },
    {
      "cell_type": "code",
      "source": [
        "import zipfile\n",
        "\n",
        "\n",
        "with zipfile.ZipFile('dev.zip', 'r') as zip_ref:\n",
        "    zip_ref.extractall('/content/')\n",
        "\n",
        "with zipfile.ZipFile('test.zip', 'r') as zip_ref:\n",
        "    zip_ref.extractall('/content/')\n",
        "\n",
        "with zipfile.ZipFile('train.zip', 'r') as zip_ref:\n",
        "    zip_ref.extractall('/content/')\n",
        "\n",
        "with zipfile.ZipFile('vocab.zip', 'r') as zip_ref:\n",
        "    zip_ref.extractall('/content/')\n"
      ],
      "metadata": {
        "id": "bO_olqbx7zzY"
      },
      "execution_count": null,
      "outputs": []
    },
    {
      "cell_type": "code",
      "source": [
        "!pip install dgl\n",
        "!pip install networkx\n",
        "!pip install numpy\n",
        "!pip install torch\n",
        "!pip install nltk\n",
        "!pip install gensim\n",
        "!pip install matplotlib"
      ],
      "metadata": {
        "colab": {
          "base_uri": "https://localhost:8080/"
        },
        "id": "W5TqeZxVeQdi",
        "outputId": "e492f587-7922-40c7-8050-30fda214a1ef"
      },
      "execution_count": null,
      "outputs": [
        {
          "output_type": "stream",
          "name": "stdout",
          "text": [
            "Collecting dgl\n",
            "  Downloading dgl-1.1.3-cp310-cp310-manylinux1_x86_64.whl (6.5 MB)\n",
            "\u001b[2K     \u001b[90m━━━━━━━━━━━━━━━━━━━━━━━━━━━━━━━━━━━━━━━━\u001b[0m \u001b[32m6.5/6.5 MB\u001b[0m \u001b[31m17.6 MB/s\u001b[0m eta \u001b[36m0:00:00\u001b[0m\n",
            "\u001b[?25hRequirement already satisfied: numpy>=1.14.0 in /usr/local/lib/python3.10/dist-packages (from dgl) (1.23.5)\n",
            "Requirement already satisfied: scipy>=1.1.0 in /usr/local/lib/python3.10/dist-packages (from dgl) (1.11.4)\n",
            "Requirement already satisfied: networkx>=2.1 in /usr/local/lib/python3.10/dist-packages (from dgl) (3.2.1)\n",
            "Requirement already satisfied: requests>=2.19.0 in /usr/local/lib/python3.10/dist-packages (from dgl) (2.31.0)\n",
            "Requirement already satisfied: tqdm in /usr/local/lib/python3.10/dist-packages (from dgl) (4.66.1)\n",
            "Requirement already satisfied: psutil>=5.8.0 in /usr/local/lib/python3.10/dist-packages (from dgl) (5.9.5)\n",
            "Requirement already satisfied: charset-normalizer<4,>=2 in /usr/local/lib/python3.10/dist-packages (from requests>=2.19.0->dgl) (3.3.2)\n",
            "Requirement already satisfied: idna<4,>=2.5 in /usr/local/lib/python3.10/dist-packages (from requests>=2.19.0->dgl) (3.6)\n",
            "Requirement already satisfied: urllib3<3,>=1.21.1 in /usr/local/lib/python3.10/dist-packages (from requests>=2.19.0->dgl) (2.0.7)\n",
            "Requirement already satisfied: certifi>=2017.4.17 in /usr/local/lib/python3.10/dist-packages (from requests>=2.19.0->dgl) (2023.11.17)\n",
            "Installing collected packages: dgl\n",
            "Successfully installed dgl-1.1.3\n",
            "Requirement already satisfied: networkx in /usr/local/lib/python3.10/dist-packages (3.2.1)\n",
            "Requirement already satisfied: numpy in /usr/local/lib/python3.10/dist-packages (1.23.5)\n",
            "Requirement already satisfied: torch in /usr/local/lib/python3.10/dist-packages (2.1.0+cu121)\n",
            "Requirement already satisfied: filelock in /usr/local/lib/python3.10/dist-packages (from torch) (3.13.1)\n",
            "Requirement already satisfied: typing-extensions in /usr/local/lib/python3.10/dist-packages (from torch) (4.5.0)\n",
            "Requirement already satisfied: sympy in /usr/local/lib/python3.10/dist-packages (from torch) (1.12)\n",
            "Requirement already satisfied: networkx in /usr/local/lib/python3.10/dist-packages (from torch) (3.2.1)\n",
            "Requirement already satisfied: jinja2 in /usr/local/lib/python3.10/dist-packages (from torch) (3.1.2)\n",
            "Requirement already satisfied: fsspec in /usr/local/lib/python3.10/dist-packages (from torch) (2023.6.0)\n",
            "Requirement already satisfied: triton==2.1.0 in /usr/local/lib/python3.10/dist-packages (from torch) (2.1.0)\n",
            "Requirement already satisfied: MarkupSafe>=2.0 in /usr/local/lib/python3.10/dist-packages (from jinja2->torch) (2.1.3)\n",
            "Requirement already satisfied: mpmath>=0.19 in /usr/local/lib/python3.10/dist-packages (from sympy->torch) (1.3.0)\n",
            "Requirement already satisfied: nltk in /usr/local/lib/python3.10/dist-packages (3.8.1)\n",
            "Requirement already satisfied: click in /usr/local/lib/python3.10/dist-packages (from nltk) (8.1.7)\n",
            "Requirement already satisfied: joblib in /usr/local/lib/python3.10/dist-packages (from nltk) (1.3.2)\n",
            "Requirement already satisfied: regex>=2021.8.3 in /usr/local/lib/python3.10/dist-packages (from nltk) (2023.6.3)\n",
            "Requirement already satisfied: tqdm in /usr/local/lib/python3.10/dist-packages (from nltk) (4.66.1)\n",
            "Requirement already satisfied: gensim in /usr/local/lib/python3.10/dist-packages (4.3.2)\n",
            "Requirement already satisfied: numpy>=1.18.5 in /usr/local/lib/python3.10/dist-packages (from gensim) (1.23.5)\n",
            "Requirement already satisfied: scipy>=1.7.0 in /usr/local/lib/python3.10/dist-packages (from gensim) (1.11.4)\n",
            "Requirement already satisfied: smart-open>=1.8.1 in /usr/local/lib/python3.10/dist-packages (from gensim) (6.4.0)\n",
            "Requirement already satisfied: matplotlib in /usr/local/lib/python3.10/dist-packages (3.7.1)\n",
            "Requirement already satisfied: contourpy>=1.0.1 in /usr/local/lib/python3.10/dist-packages (from matplotlib) (1.2.0)\n",
            "Requirement already satisfied: cycler>=0.10 in /usr/local/lib/python3.10/dist-packages (from matplotlib) (0.12.1)\n",
            "Requirement already satisfied: fonttools>=4.22.0 in /usr/local/lib/python3.10/dist-packages (from matplotlib) (4.47.0)\n",
            "Requirement already satisfied: kiwisolver>=1.0.1 in /usr/local/lib/python3.10/dist-packages (from matplotlib) (1.4.5)\n",
            "Requirement already satisfied: numpy>=1.20 in /usr/local/lib/python3.10/dist-packages (from matplotlib) (1.23.5)\n",
            "Requirement already satisfied: packaging>=20.0 in /usr/local/lib/python3.10/dist-packages (from matplotlib) (23.2)\n",
            "Requirement already satisfied: pillow>=6.2.0 in /usr/local/lib/python3.10/dist-packages (from matplotlib) (9.4.0)\n",
            "Requirement already satisfied: pyparsing>=2.3.1 in /usr/local/lib/python3.10/dist-packages (from matplotlib) (3.1.1)\n",
            "Requirement already satisfied: python-dateutil>=2.7 in /usr/local/lib/python3.10/dist-packages (from matplotlib) (2.8.2)\n",
            "Requirement already satisfied: six>=1.5 in /usr/local/lib/python3.10/dist-packages (from python-dateutil>=2.7->matplotlib) (1.16.0)\n"
          ]
        }
      ]
    },
    {
      "cell_type": "code",
      "source": [
        "import nltk\n",
        "nltk.download('punkt')\n",
        "nltk.download('averaged_perceptron_tagger')\n",
        "nltk.download('wordnet')\n",
        "nltk.download('sentiwordnet')"
      ],
      "metadata": {
        "colab": {
          "base_uri": "https://localhost:8080/"
        },
        "id": "zqpGjXbdhrkS",
        "outputId": "e7a9a054-34d7-4b62-a602-9552b21af1a8"
      },
      "execution_count": null,
      "outputs": [
        {
          "output_type": "stream",
          "name": "stderr",
          "text": [
            "[nltk_data] Downloading package punkt to /root/nltk_data...\n",
            "[nltk_data]   Unzipping tokenizers/punkt.zip.\n",
            "[nltk_data] Downloading package averaged_perceptron_tagger to\n",
            "[nltk_data]     /root/nltk_data...\n",
            "[nltk_data]   Unzipping taggers/averaged_perceptron_tagger.zip.\n",
            "[nltk_data] Downloading package wordnet to /root/nltk_data...\n",
            "[nltk_data] Downloading package sentiwordnet to /root/nltk_data...\n",
            "[nltk_data]   Unzipping corpora/sentiwordnet.zip.\n"
          ]
        },
        {
          "output_type": "execute_result",
          "data": {
            "text/plain": [
              "True"
            ]
          },
          "metadata": {},
          "execution_count": 3
        }
      ]
    },
    {
      "cell_type": "markdown",
      "source": [
        "##**Discourse LSTM Algorithm**"
      ],
      "metadata": {
        "id": "N0x8OICXsrHe"
      }
    },
    {
      "cell_type": "markdown",
      "source": [
        "###- Discourse-LSTM is a model proposed in the paper written by (Mathias Kraus, 2019).\n",
        "###- This Discourse-LSTM  takes into account the relations between discourse units and its hierarchy type which is nucleus and satellite .\n",
        "###- Nucleus is the main part of the discourse while satellite is the elaboration of the nucleus.\n",
        "###- The research paper mentioned that they had implemented this model, but unfortunately, it is currently not publicly accessible, therefore this is the implementation based on the concept presented in the paper.\n",
        "###- The main difference between discourse-lstm and tree-lstm is that discourse LSTM replaces the global LSTM that serves all nodes with one that is dependent on the relation type.\n",
        "###- The implementation of this model took into account 15 relation types and 2 hierarchy types.\n",
        "###- Next, The update gate, forget gate and bias, was modified to have 15 linear layers. But, Only one linear layer corresponding to the relation type will be chosen for each discourse unit.\n",
        "###- Furthermore, The hidden state and memory state of each discourse unit will be weighted according to their hierarchy type.\n",
        "###- The rest of the implementation is then mostly similar to tree-lstm:\n",
        "\n",
        "*   where the model will propagate top-down or bottom-up, from node to another node, where each node represents a discourse unit.\n",
        "*   Then, at each node, the model will compute the forget cell  while taking into account the hidden state of its child.\n",
        "*   Then the node will compute its input, output and update cell, followed by hidden and memory cell before passing it to its parent.\n",
        "*   After passing through each node, the model will output the logits of the computations which is the result of the final linear function being applied to the hidden states.\n",
        "\n",
        "\n",
        "  "
      ],
      "metadata": {
        "id": "JYxJ0utzJm_y"
      }
    },
    {
      "cell_type": "code",
      "source": [
        "\n",
        "import itertools\n",
        "import time\n",
        "import dgl\n",
        "import networkx as nx\n",
        "import numpy as np\n",
        "import torch as th\n",
        "import torch.nn as nn\n",
        "import torch.nn.functional as F\n",
        "\n",
        "\n",
        "class ChildSumDiscourseLSTMCell(nn.Module):\n",
        "\n",
        "    def __init__(self, x_size, h_size, num_relations):\n",
        "        super(ChildSumDiscourseLSTMCell, self).__init__()\n",
        "\n",
        "        self.W_iou = nn.Linear(x_size, 3 * h_size, bias=False)\n",
        "\n",
        "        # Define the list containing 15 instances of nn.Linear corresponding to 15 num_relations\n",
        "        self.U_iou = [nn.Linear(h_size, 3 * h_size, bias=False) for _ in range(num_relations)]\n",
        "        self.b_iou = [nn.Parameter(th.zeros(1, 3 * h_size)) for _ in range(num_relations)]\n",
        "        self.U_f = [nn.Linear(h_size, h_size) for _ in range(num_relations)]\n",
        "\n",
        "        # Weight matrices for child hidden states\n",
        "        self.W_h = [nn.Linear(h_size, h_size) for _ in range(2)]  # 2 for nucleus and satellite\n",
        "        self.W_c = [nn.Linear(h_size, h_size) for _ in range(2)] # 2 for nucleus and satellite\n",
        "\n",
        "\n",
        "    def message_func(self, edges):\n",
        "      return {\"h\": edges.src[\"h\"], \"c\": edges.src[\"c\"],\n",
        "              \"hierarchy_type\": edges.src[\"hierarchy_type\"],\n",
        "              \"relation_type\": edges.src[\"relation_type\"]}\n",
        "\n",
        "\n",
        "    def reduce_func(self, nodes):\n",
        "\n",
        "        hierarchy_type = nodes.mailbox[\"hierarchy_type\"]\n",
        "        relation_type = nodes.mailbox[\"relation_type\"]\n",
        "        weighted_h = torch.cat([self.W_h[hierarchy_type[i]](nodes.mailbox[\"h\"][i]).unsqueeze(0) for i in range(hierarchy_type.size(0))], dim=0)\n",
        "        weighted_c = torch.cat([self.W_c[hierarchy_type[i]](nodes.mailbox[\"c\"][i]).unsqueeze(0) for i in range(hierarchy_type.size(0))], dim=0)\n",
        "        h_tild = th.sum(weighted_h, 1)\n",
        "        f = th.sigmoid(torch.cat([self.U_f[relation_type[i]](weighted_h[i]).unsqueeze(0) for i in range(relation_type.size(0))], dim=0))\n",
        "        c = th.sum(f * weighted_c, 1)\n",
        "        return {\"iou\": self.U_iou[nodes.data['relation_type']](h_tild), \"c\": c}\n",
        "\n",
        "\n",
        "    def apply_node_func(self, nodes):\n",
        "\n",
        "        relation_type = nodes.data[\"relation_type\"]\n",
        "        iou = nodes.data[\"iou\"] + self.b_iou[relation_type]\n",
        "        i, o, u = th.chunk(iou.squeeze(), chunks=3, dim=0)\n",
        "        i, o, u = th.sigmoid(i), th.sigmoid(o), th.tanh(u)\n",
        "        c = i * u + nodes.data[\"c\"]\n",
        "        h = o * th.tanh(c)\n",
        "        return {\"h\": h, \"c\": c}\n",
        "\n",
        "\n",
        "class DiscourseLSTM(nn.Module):\n",
        "    def __init__(\n",
        "        self,\n",
        "        num_vocabs,\n",
        "        x_size,\n",
        "        h_size,\n",
        "        num_classes,\n",
        "        dropout,\n",
        "        num_relations,\n",
        "        cell_type=\"childsum\",\n",
        "        pretrained_emb=None,\n",
        "    ):\n",
        "        super(DiscourseLSTM, self).__init__()\n",
        "        self.x_size = x_size\n",
        "        self.embedding = nn.Embedding(num_vocabs, x_size)\n",
        "\n",
        "        if pretrained_emb is not None:\n",
        "            print(\"Using glove\")\n",
        "            self.embedding.weight.data.copy_(pretrained_emb)\n",
        "            self.embedding.weight.requires_grad = True\n",
        "\n",
        "        self.dropout = nn.Dropout(dropout)\n",
        "        self.linear = nn.Linear(h_size, num_classes)\n",
        "        self.cell_type = cell_type\n",
        "        self.cell = ChildSumDiscourseLSTMCell(x_size, h_size, num_relations)\n",
        "\n",
        "\n",
        "    def forward(self, batch, g, h, c):\n",
        "        \"\"\"Compute tree-lstm prediction given a batch.\n",
        "        Parameters\n",
        "        ----------\n",
        "        batch : dgl.data.SSTBatch\n",
        "            The data batch.\n",
        "        g : dgl.DGLGraph\n",
        "            Tree for computation.\n",
        "        h : Tensor\n",
        "            Initial hidden state.\n",
        "        c : Tensor\n",
        "            Initial cell state.\n",
        "        Returns\n",
        "        -------\n",
        "        logits : Tensor\n",
        "            The prediction of each node.\n",
        "        \"\"\"\n",
        "        # feed embedding\n",
        "\n",
        "        embeds = self.embedding((batch.wordid * batch.mask).long())\n",
        "\n",
        "        g.ndata[\"iou\"] = self.cell.W_iou(\n",
        "            self.dropout(embeds)\n",
        "        ) * batch.mask.float().unsqueeze(-1)\n",
        "\n",
        "        g.ndata[\"h\"] = h\n",
        "        g.ndata[\"c\"] = c\n",
        "\n",
        "        g.ndata[\"relation_type\"] = batch.relation_type\n",
        "        g.ndata[\"hierarchy_type\"] = batch.hierarchy_type\n",
        "\n",
        "        # propagate\n",
        "        dgl.prop_nodes_topo(\n",
        "            g,\n",
        "            self.cell.message_func,\n",
        "            self.cell.reduce_func,\n",
        "            apply_node_func=self.cell.apply_node_func,\n",
        "        )\n",
        "\n",
        "        # compute logits\n",
        "        h_dropped = self.dropout(g.ndata.pop(\"h\"))\n",
        "        logits = self.linear(h_dropped)\n",
        "        return logits"
      ],
      "metadata": {
        "colab": {
          "base_uri": "https://localhost:8080/"
        },
        "id": "czB-0J2Cswgi",
        "outputId": "de00ecb4-dd1c-4922-b31d-45c853abd430"
      },
      "execution_count": null,
      "outputs": [
        {
          "output_type": "stream",
          "name": "stderr",
          "text": [
            "DGL backend not selected or invalid.  Assuming PyTorch for now.\n"
          ]
        },
        {
          "output_type": "stream",
          "name": "stdout",
          "text": [
            "Setting the default backend to \"pytorch\". You can change it in the ~/.dgl/config.json file or export the DGLBACKEND environment variable.  Valid options are: pytorch, mxnet, tensorflow (all lowercase)\n"
          ]
        }
      ]
    },
    {
      "cell_type": "markdown",
      "source": [
        "##**Functions to combine .merge and .brackets**"
      ],
      "metadata": {
        "id": "-na4rxY7sMei"
      }
    },
    {
      "cell_type": "markdown",
      "source": [
        "###.merge and .brackets are files that resulted in the process of parsing by utilizing RST parser by (Ji et al., 2014). .merge files have text information while .brackets files have type, span and relation information. These information were combined to be further used to construct graphs"
      ],
      "metadata": {
        "id": "IGVRAJrNdWN9"
      }
    },
    {
      "cell_type": "code",
      "source": [
        "import re\n",
        "\n",
        "class Node:\n",
        "    def __init__(self, node_type, span, relation, text=None):\n",
        "        self.node_type = node_type\n",
        "        self.span = span\n",
        "        self.relation = relation\n",
        "        self.text = text\n",
        "        self.children = []\n",
        "\n",
        "    def add_child(self, child_node):\n",
        "        self.children.append(child_node)\n",
        "\n",
        "    def is_within_span(self, span):\n",
        "        if self.span is None:  # Root node\n",
        "            return True\n",
        "        return self.span[0] <= span[0] and self.span[1] >= span[1]\n",
        "\n",
        "    def __repr__(self):\n",
        "      if self.text is not None:\n",
        "          return f\"{self.node_type}({self.span}, {self.relation}, '{self.text}')\"\n",
        "      else:\n",
        "          return f\"{self.node_type}({self.span}, {self.relation}, {self.text})\"\n",
        "\n",
        "def parse_brackets(data):\n",
        "    pattern = re.compile(r\"\\(\\((\\d+), (\\d+)\\), '(\\w+)', '(\\w+)'\\)\")\n",
        "    parsed_data = []\n",
        "    for line in data.split('\\n'):\n",
        "        match = pattern.match(line)\n",
        "        if match:\n",
        "            parsed_data.append({\n",
        "                'start': int(match.group(1)),\n",
        "                'end': int(match.group(2)),\n",
        "                'type': match.group(3),\n",
        "                'relation': match.group(4)\n",
        "            })\n",
        "    return parsed_data\n",
        "\n",
        "def parse_merge(data):\n",
        "    parsed_data = []\n",
        "    for line in data.split('\\n'):\n",
        "        parts = line.split('\\t')\n",
        "        if len(parts) > 5:\n",
        "            parsed_data.append({\n",
        "                'index': int(parts[0]),\n",
        "                'word_index': int(parts[-1]),\n",
        "                'word': parts[2],\n",
        "                'lemma': parts[3],\n",
        "                'pos': parts[4],\n",
        "                'text': re.findall(r'_!\\((.*?)\\)_!', parts[-2])\n",
        "            })\n",
        "    return parsed_data\n",
        "\n",
        "def find_text_for_span(span_start, span_end, merge_data):\n",
        "    text_segments = []\n",
        "    for item in merge_data:\n",
        "        if span_start <= item['word_index'] <= span_end:\n",
        "            text_segments.append(item['word'])\n",
        "    return ' '.join(text_segments)\n",
        "\n",
        "def create_combined_structure(brackets_data, merge_data):\n",
        "    structure = []\n",
        "    for item in brackets_data:\n",
        "        text_content = find_text_for_span(item['start'], item['end'], merge_data)\n",
        "        structure.append({\n",
        "            'type': item['type'],\n",
        "            'span': (item['start'], item['end']),\n",
        "            'relation': item['relation'],\n",
        "            'text': text_content\n",
        "        })\n",
        "    return structure\n",
        "\n",
        "def create_tree_structure(elements):\n",
        "    root = Node(\"Root\", None, None)\n",
        "    stack = [root]\n",
        "\n",
        "    for element in elements:\n",
        "        new_node = Node(element['type'], element['span'], element['relation'], element['text'])\n",
        "\n",
        "        while not stack[-1].is_within_span(new_node.span):\n",
        "            stack.pop()\n",
        "\n",
        "        stack[-1].add_child(new_node)\n",
        "        stack.append(new_node)\n",
        "\n",
        "    return root\n",
        "\n",
        "def tree_to_string(node, indent=\"\"):\n",
        "    output = indent + str(node) + \"\\n\"\n",
        "    for child in node.children:\n",
        "        output += tree_to_string(child, indent + \"  \")\n",
        "    return output\n",
        "\n",
        "def combine(data_folder,total_data):\n",
        "\n",
        "  data_list = []\n",
        "  labels = []\n",
        "\n",
        "  count = 0\n",
        "  for i in range(total_data):\n",
        "    if(os.path.exists(os.path.join(data_folder, f'fyp_data_{i + 1}.txt.brackets'))):\n",
        "\n",
        "      # Reading the contents of the files\n",
        "      file_path_brackets = os.path.join(data_folder, f'fyp_data_{i + 1}.txt.brackets')\n",
        "      file_path_merge = os.path.join(data_folder, f'fyp_data_{i + 1}.txt.merge')\n",
        "\n",
        "      with open(file_path_brackets, 'r') as file:\n",
        "          data_brackets = file.read()\n",
        "\n",
        "      with open(file_path_merge, 'r') as file:\n",
        "          data_merge = file.read()\n",
        "\n",
        "      # Process the data\n",
        "      parsed_brackets = parse_brackets(data_brackets)\n",
        "      parsed_merge = parse_merge(data_merge)\n",
        "\n",
        "      combined_structure = create_combined_structure(parsed_brackets, parsed_merge)\n",
        "      tree_structure = create_tree_structure(combined_structure)\n",
        "\n",
        "      data_list.append(tree_to_string(tree_structure))\n",
        "\n",
        "      if i in range(242):\n",
        "        labels.append(1) # first 241 files are on pressure and coercion scams\n",
        "      else:\n",
        "        labels.append(0) #after 241 files are on non pressure and coercion scams. e.g. spams discourse\n",
        "\n",
        "  return data_list, labels\n"
      ],
      "metadata": {
        "id": "dnn_s0nvEtXj"
      },
      "execution_count": null,
      "outputs": []
    },
    {
      "cell_type": "markdown",
      "source": [
        "##**Functions to build graph (elementary discourse unit), calculate sentiment scores & embeddings**"
      ],
      "metadata": {
        "id": "NK-Q_-Jxukbl"
      }
    },
    {
      "cell_type": "markdown",
      "source": [
        "###This graph represent a single elementary discourse unit where it contains a collection of sentences. Each node in this graph have information such as:\n",
        "\n",
        "*   Node type\n",
        "*   Relation type\n",
        "*   Text that were converted into embeddings\n",
        "*   Labels (resulted from the calculation of sentiment scores)\n",
        "\n"
      ],
      "metadata": {
        "id": "gG-kAEbaeWI-"
      }
    },
    {
      "cell_type": "code",
      "source": [
        "import gensim.downloader as api\n",
        "glove_model = api.load(\"glove-wiki-gigaword-300\")"
      ],
      "metadata": {
        "colab": {
          "base_uri": "https://localhost:8080/"
        },
        "id": "kBbo_p2KJPTH",
        "outputId": "c18d1b19-b148-4cba-8ec4-20a480543786"
      },
      "execution_count": null,
      "outputs": [
        {
          "output_type": "stream",
          "name": "stdout",
          "text": [
            "[==================================================] 100.0% 376.1/376.1MB downloaded\n"
          ]
        }
      ]
    },
    {
      "cell_type": "code",
      "source": [
        "import torch\n",
        "\n",
        "# Precompute all embeddings as a PyTorch tensor\n",
        "all_embeddings = torch.tensor(glove_model.vectors, dtype=torch.float32)"
      ],
      "metadata": {
        "id": "A_fTzuIoM_u-"
      },
      "execution_count": null,
      "outputs": []
    },
    {
      "cell_type": "code",
      "execution_count": null,
      "metadata": {
        "id": "87avpYXndqdx"
      },
      "outputs": [],
      "source": [
        "\n",
        "import argparse\n",
        "import collections\n",
        "import torch\n",
        "import torch as th\n",
        "from torch.utils.data import DataLoader\n",
        "import torch.nn.functional as F\n",
        "import torch.nn.init as INIT\n",
        "import time\n",
        "import torch.optim as optim\n",
        "import sys\n",
        "import dgl\n",
        "from nltk.tree import Tree\n",
        "import networkx as nx\n",
        "import matplotlib.pyplot as plt\n",
        "import re\n",
        "import ast\n",
        "from nltk.tokenize import word_tokenize\n",
        "import numpy as np\n",
        "import nltk\n",
        "import pandas as pd\n",
        "from nltk.corpus import sentiwordnet as swn\n",
        "from nltk.stem import WordNetLemmatizer\n",
        "\n",
        "class DiscourseNode:\n",
        "    def __init__(self, node_type, relation, text):\n",
        "        self.node_type = node_type\n",
        "        self.relation = relation\n",
        "        self.text = text\n",
        "        self.children = []\n",
        "\n",
        "    def add_child(self, child):\n",
        "        self.children.append(child)\n",
        "\n",
        "    def get_text(self):\n",
        "        return self.text\n",
        "\n",
        "    def __str__(self):\n",
        "        return f'node({self.node_type}, {self.relation}, {self.text}, {self.children})'\n",
        "\n",
        "def calculate_sentiment_score(tokens, word, pos, df):\n",
        "\n",
        "    if not df[df['SynsetTerms'].str.contains(rf'\\b{word}\\b', case=False, regex=True)].empty:\n",
        "        df_synset_that_match = df[(df['SynsetTerms'] == word) & (df['POS'] == pos.lower())]\n",
        "        count = 0\n",
        "        for token in tokens:\n",
        "            try:\n",
        "              if df_synset_that_match['Gloss'].str.contains(rf'\\b{token}\\b', case=False, regex=True).item():\n",
        "                count+=1\n",
        "            except:\n",
        "              pass\n",
        "\n",
        "        if count/len(tokens)> 0.1:\n",
        "            return -1 *df_synset_that_match['NegScore'].item()\n",
        "        else:\n",
        "          return 0\n",
        "    else:\n",
        "        synsets = list(swn.senti_synsets(word, pos))\n",
        "        if synsets:\n",
        "            synset = synsets[0]\n",
        "            return synset.pos_score() - synset.neg_score()\n",
        "        else:\n",
        "            return 0.0\n",
        "\n",
        "def calculate_sentence_sentiment(sentence, df):\n",
        "\n",
        "    tokens = word_tokenize(sentence)\n",
        "    total_sentiment_score = 0.0\n",
        "    total_word_to_div = 0\n",
        "    lemmatizer = WordNetLemmatizer()\n",
        "    for token in tokens:\n",
        "\n",
        "        token_sentiment_score = 0.0\n",
        "\n",
        "        # Get the part-of-speech tag using NLTK's pos_tag function\n",
        "        pos = nltk.pos_tag([token])[0][1]\n",
        "\n",
        "\n",
        "        if pos.startswith('A'):\n",
        "\n",
        "            token = lemmatizer.lemmatize(token, pos='a')\n",
        "            token_sentiment_score = calculate_sentiment_score(tokens, token, 'a', df)\n",
        "        elif pos.startswith('V'):\n",
        "\n",
        "            token = lemmatizer.lemmatize(token, pos='v')\n",
        "            token_sentiment_score = calculate_sentiment_score(tokens, token, 'v', df)\n",
        "        elif pos.startswith('N'):\n",
        "\n",
        "            token = lemmatizer.lemmatize(token, pos='n')\n",
        "            token_sentiment_score = calculate_sentiment_score(tokens, token, 'n', df)\n",
        "        elif pos.startswith('R'):\n",
        "\n",
        "            token = lemmatizer.lemmatize(token, pos='r')\n",
        "            token_sentiment_score = calculate_sentiment_score(tokens, token, 'r', df)\n",
        "        elif pos.startswith('J'):\n",
        "\n",
        "            token = lemmatizer.lemmatize(token, pos='a')\n",
        "            token_sentiment_score = calculate_sentiment_score(tokens, token, 'a', df)\n",
        "\n",
        "            if token_sentiment_score != 0.0:\n",
        "              total_word_to_div+=1\n",
        "        total_sentiment_score += float(token_sentiment_score)\n",
        "\n",
        "    try:\n",
        "      return total_sentiment_score/total_word_to_div\n",
        "\n",
        "    except: # div by 0 error\n",
        "      return 0\n",
        "\n",
        "def parse_discourse_structure(data):\n",
        "\n",
        "    node_types = []\n",
        "    relations = []\n",
        "    texts = []\n",
        "    nodes = []\n",
        "    labels = []\n",
        "\n",
        "    #create dictionary to map name to integer\n",
        "    node_type_dict = {\"Nucleus\": 0, \"Satellite\": 1}\n",
        "    relations_dict = {\"textualorganization\": 0,\n",
        "                        \"contrast\": 1,\n",
        "                        \"list\": 2,\n",
        "                        \"reason\": 3,\n",
        "                        \"condition\": 4,\n",
        "                        \"summary\": 5,\n",
        "                        \"span\": 6,\n",
        "                        \"same_unit\": 7,\n",
        "                        \"elaboration\": 8,\n",
        "                        \"purpose\": 9,\n",
        "                        \"definition\": 10,\n",
        "                        \"circumstance\": 11,\n",
        "                        \"means\": 12,\n",
        "                        \"attribution\": 13,\n",
        "                        \"temporal\": 14}\n",
        "\n",
        "\n",
        "    file_path = '/content/ScamWordNet_1.0.3.xlsx'\n",
        "    df = pd.read_excel(file_path)\n",
        "    df['SynsetTerms'] = df['SynsetTerms'].str.replace(r'#[0-9]+', '', regex=True)\n",
        "\n",
        "    root = None\n",
        "    current_node = None\n",
        "    for line in data.split('\\n'):\n",
        "        line = line.strip()\n",
        "        generalized_pattern = r\"(\\w+)\\(\\((\\d+),\\s*(\\d+)\\),\\s*(\\w+),\\s*'(.+?)'\\)\"\n",
        "\n",
        "\n",
        "        match = re.match(generalized_pattern, line)\n",
        "        if match:\n",
        "            generalized_components = [\n",
        "                match.group(1),\n",
        "                match.group(2), match.group(3),\n",
        "                match.group(4),\n",
        "                match.group(5)\n",
        "            ]\n",
        "        else:\n",
        "            generalized_components = []\n",
        "\n",
        "        if not line.strip():\n",
        "\n",
        "            continue\n",
        "\n",
        "        parts = line.split(',')\n",
        "\n",
        "        if len(parts) < 3:\n",
        "\n",
        "            continue\n",
        "\n",
        "        if 'Root' in parts[0]:\n",
        "\n",
        "            continue\n",
        "        else:\n",
        "            if(int(generalized_components[1])!=int(generalized_components[2])):\n",
        "                continue\n",
        "\n",
        "            try:\n",
        "                node_type = generalized_components[0]\n",
        "                node_types.append(node_type_dict[node_type])\n",
        "            except:\n",
        "                node_types.append(-1)\n",
        "\n",
        "            try:\n",
        "                relation = generalized_components[3]\n",
        "                relations.append(relations_dict[relation])\n",
        "            except:\n",
        "                relations.append(-1)\n",
        "\n",
        "            text = generalized_components[4]\n",
        "            texts.append(get_sentence_embedding(text))\n",
        "            labels.append(1 if calculate_sentence_sentiment(text,df) < 0 else 0)\n",
        "\n",
        "            nodes.append(DiscourseNode(node_type, relation, text))\n",
        "\n",
        "    node_mapping = {}\n",
        "    edges = []\n",
        "    for i in range(len(nodes)):\n",
        "\n",
        "        node_mapping[nodes[i]] = i\n",
        "\n",
        "    for i in range (len(nodes) - 1):\n",
        "\n",
        "        edges.append((node_mapping[nodes[i]],node_mapping[nodes[i+1]]))\n",
        "\n",
        "\n",
        "    src, dst = zip(*edges)\n",
        "    g = dgl.graph((src,dst))\n",
        "\n",
        "    return g, node_types, relations, texts, labels\n",
        "\n",
        "def preprocess_text(text):\n",
        "\n",
        "    return word_tokenize(text.lower())\n",
        "\n",
        "def get_sentence_embedding(sentence):\n",
        "\n",
        "    \"\"\"\n",
        "    Creates a sentence embedding by averaging the word embeddings.\n",
        "    Unknown words are ignored.\n",
        "    \"\"\"\n",
        "    words = preprocess_text(sentence)\n",
        "    indices = [glove_model.key_to_index[word] for word in words if word in glove_model]\n",
        "    word_embeddings_tensor = all_embeddings[indices]\n",
        "\n",
        "    if len(word_embeddings_tensor) == 0:\n",
        "        return torch.zeros(glove_model.vector_size)  # Return zero vector if no words are found\n",
        "\n",
        "    sentence_embedding = torch.mean(word_embeddings_tensor, dtype=torch.float32)\n",
        "    return sentence_embedding\n",
        "\n"
      ]
    },
    {
      "cell_type": "markdown",
      "source": [
        "##**DLSTMDataset()**"
      ],
      "metadata": {
        "id": "ix2T4uJTtJf-"
      }
    },
    {
      "cell_type": "markdown",
      "source": [
        "###DLSTMDataset() is function to prepare the dataset by constructing a Discourse tree out of those individual discourse units. This function also includes operation of comparing the data embeddings (dataset vocabulary that was converted to vector) with pre-trained GloVe embeddings that will be used to train the model."
      ],
      "metadata": {
        "id": "AohjqdewtneK"
      }
    },
    {
      "cell_type": "code",
      "source": [
        "from collections import OrderedDict\n",
        "import os\n",
        "from gensim import downloader\n",
        "import warnings\n",
        "\n",
        "__all__ = [\"DLSTM\", \"DLSTMDataset\"]\n",
        "\n",
        "class DLSTMDataset():\n",
        "\n",
        "    def __init__(\n",
        "        self,\n",
        "        name=\"dlstm\",\n",
        "        mode=\"train\",\n",
        "        glove_embed=True,\n",
        "        vocab_file=None,\n",
        "        raw_dir=None,\n",
        "        force_reload=False,\n",
        "        verbose=False,\n",
        "        transform=None,\n",
        "        total_data=261,\n",
        "\n",
        "    ):\n",
        "        assert mode in [\"train\", \"dev\", \"test\", \"tiny\"]\n",
        "        self._glove_embed = glove_embed if mode == \"train\" else False\n",
        "        self.mode = mode\n",
        "        self._vocab_file = vocab_file\n",
        "        self.name = name\n",
        "        self.raw_dir = raw_dir\n",
        "        self.force_reload = force_reload\n",
        "        self.verbose = verbose\n",
        "        self.transform = transform\n",
        "        self.raw_path = '/content/vocab'\n",
        "        self._trees = []\n",
        "        self._transform = None\n",
        "        self._pretrained_emb = torch.tensor([[]])\n",
        "        self._vocab = []\n",
        "        self._data_folder = \"/content/{}\".format(self.mode)\n",
        "        self._total_data = total_data\n",
        "\n",
        "    def process(self):\n",
        "      from nltk.corpus.reader import BracketParseCorpusReader\n",
        "\n",
        "      # load vocab file\n",
        "      self._vocab = OrderedDict()\n",
        "      vocab_file = (\n",
        "            self._vocab_file\n",
        "            if self._vocab_file is not None\n",
        "            else os.path.join(self.raw_path, \"vocab.txt\")\n",
        "      )\n",
        "      with open(vocab_file, encoding=\"utf-8\") as vf:\n",
        "        for line in vf.readlines():\n",
        "            line = line.strip()\n",
        "            self._vocab[line] = len(self._vocab)\n",
        "\n",
        "       # filter glove\n",
        "        glove_model = downloader.load(\"glove-wiki-gigaword-300\")\n",
        "\n",
        "        glove_emb = {}\n",
        "\n",
        "        if self._glove_embed:\n",
        "            for word in self._vocab:\n",
        "              if word in glove_model:\n",
        "                  glove_emb[word] = glove_model[word]\n",
        "              else:\n",
        "                  glove_emb[word] = np.random.uniform(-0.05, 0.05, 300)  # Use a random vector for unknown words\n",
        "\n",
        "\n",
        "        # initialize with glove\n",
        "        pretrained_emb = []\n",
        "        fail_cnt = 0\n",
        "\n",
        "        if self._glove_embed:\n",
        "          for word in self._vocab.keys():\n",
        "\n",
        "              if word in glove_model:\n",
        "                  pretrained_emb.append(glove_model[word])\n",
        "              else:\n",
        "                  # If the word is not in the GloVe model, use a random vector\n",
        "                  pretrained_emb.append(np.random.uniform(-0.05, 0.05, 300))\n",
        "                  fail_cnt += 1\n",
        "\n",
        "\n",
        "        if self._glove_embed:\n",
        "\n",
        "            self._pretrained_emb = torch.tensor(np.stack(pretrained_emb, 0))\n",
        "            print(\n",
        "                \"Miss word in GloVe {0:.4f}\".format(\n",
        "                    1.0 * fail_cnt / len(self._pretrained_emb)\n",
        "                )\n",
        "            )\n",
        "\n",
        "        # build trees\n",
        "        graphs = self._build_tree(self._data_folder,self._total_data)\n",
        "\n",
        "        for graph in graphs:\n",
        "\n",
        "          self._trees.append(graph)\n",
        "\n",
        "    def _build_tree(self,data_folder,total_data):\n",
        "\n",
        "      i = 0\n",
        "      data_list, labels = combine(data_folder,total_data)\n",
        "\n",
        "      graphs = []\n",
        "\n",
        "      for data in data_list:\n",
        "\n",
        "        dgl_graph, node_types, relations, texts, label = parse_discourse_structure(data)\n",
        "\n",
        "        with warnings.catch_warnings():\n",
        "          warnings.simplefilter(\"ignore\")\n",
        "          texts_np = np.array(texts, dtype=np.float32)\n",
        "          dgl_graph.ndata['x'] = torch.tensor(texts_np, dtype=torch.float32)\n",
        "          dgl_graph.ndata['y'] = torch.tensor(label, dtype=torch.int64)\n",
        "          dgl_graph.ndata['hierarchy_type'] = torch.tensor(node_types, dtype=torch.int64)\n",
        "          dgl_graph.ndata['relation_type'] = torch.tensor(relations, dtype=torch.int64)\n",
        "\n",
        "          # Initialize 'mask' with ones\n",
        "          mask = torch.ones((len(texts)), dtype=torch.int64)\n",
        "\n",
        "          # mask the data if the relation type is not inside what was defined. the masked data will be ignored by the DLSTM algorithm\n",
        "          condition = dgl_graph.ndata['relation_type'] == -1\n",
        "          mask[condition] = 0\n",
        "          dgl_graph.ndata['mask'] = mask\n",
        "          i+=1\n",
        "          graphs.append(dgl_graph)\n",
        "\n",
        "      return graphs\n",
        "\n",
        "    @property\n",
        "    def vocab(self):\n",
        "        r\"\"\"Vocabulary\n",
        "\n",
        "        Returns\n",
        "        -------\n",
        "        OrderedDict\n",
        "        \"\"\"\n",
        "        return self._vocab\n",
        "\n",
        "    @property\n",
        "    def pretrained_emb(self):\n",
        "        r\"\"\"Pre-trained word embedding, if given.\"\"\"\n",
        "        return self._pretrained_emb\n",
        "\n",
        "    def __getitem__(self, idx):\n",
        "        r\"\"\"Get graph by index\n",
        "\n",
        "        Parameters\n",
        "        ----------\n",
        "        idx : int\n",
        "\n",
        "        Returns\n",
        "        -------\n",
        "        :class:`dgl.DGLGraph`\n",
        "\n",
        "            graph structure, word id for each node, node labels and masks.\n",
        "\n",
        "            - ``ndata['x']``: word id of the node\n",
        "            - ``ndata['y']:`` label of the node\n",
        "            - ``ndata['mask']``: 1 if the node is a leaf, otherwise 0\n",
        "        \"\"\"\n",
        "        if self._transform is None:\n",
        "            return self._trees[idx]\n",
        "        else:\n",
        "            return self._transform(self._trees[idx])\n",
        "\n",
        "    def __len__(self):\n",
        "        r\"\"\"Number of graphs in the dataset.\"\"\"\n",
        "        return len(self._trees)\n",
        "\n",
        "    @property\n",
        "    def vocab_size(self):\n",
        "        r\"\"\"Vocabulary size.\"\"\"\n",
        "        return len(self._vocab)\n",
        "\n",
        "    @property\n",
        "    def num_classes(self):\n",
        "        r\"\"\"Number of classes for each node.\"\"\"\n",
        "        return 2 #like anomaly detection: to identify data points that do not belong to the 'normal class'. normal data\n",
        "                # can be considered as 'normal' class and the goal is to detect outliers or anomalies that do not fit this class.\n",
        "\n",
        "\n",
        "DLSTM = DLSTMDataset\n"
      ],
      "metadata": {
        "id": "gHb54gNytGEt"
      },
      "execution_count": null,
      "outputs": []
    },
    {
      "cell_type": "markdown",
      "source": [
        "##**Train/Dev/Test setup**"
      ],
      "metadata": {
        "id": "jJDPgmsvttUO"
      }
    },
    {
      "cell_type": "markdown",
      "source": [
        "###Preparing for Training, Validation and Test processes by defining the parameters, pre-processing dataset, loading, and batching."
      ],
      "metadata": {
        "id": "EiQStiEI07a3"
      }
    },
    {
      "cell_type": "code",
      "source": [
        "import argparse\n",
        "\n",
        "\n",
        "parser = argparse.ArgumentParser()\n",
        "parser.add_argument(\"--gpu\", type=int, default=-1)\n",
        "parser.add_argument(\"--seed\", type=int, default=41)\n",
        "parser.add_argument(\"--batch-size\", type=int, default=1)\n",
        "parser.add_argument(\"--child-sum\", action=\"store_true\")\n",
        "parser.add_argument(\"--x-size\", type=int, default=300)\n",
        "parser.add_argument(\"--h-size\", type=int, default=150)\n",
        "parser.add_argument(\"--epochs\", type=int, default=100)\n",
        "parser.add_argument(\"--log-every\", type=int, default=0)\n",
        "parser.add_argument(\"--lr\", type=float, default=0.05)\n",
        "parser.add_argument(\"--weight-decay\", type=float, default=1e-4)\n",
        "parser.add_argument(\"--dropout\", type=float, default=0.5)\n",
        "parser.add_argument(\"--num-relations\", type=int, default=15)\n",
        "\n",
        "\n",
        "args, unknown = parser.parse_known_args()\n",
        "\n",
        "\n"
      ],
      "metadata": {
        "id": "Ubmu7F9if_oU"
      },
      "execution_count": null,
      "outputs": []
    },
    {
      "cell_type": "code",
      "source": [
        "DLSTMBatch = collections.namedtuple(\n",
        "    \"DLSTMBatch\", [\"graph\", \"mask\", \"wordid\", \"label\", \"hierarchy_type\", \"relation_type\"]\n",
        ")\n",
        "\n",
        "def batcher(device):\n",
        "    def batcher_dev(batch):\n",
        "        batch_trees = dgl.batch(batch)\n",
        "        return DLSTMBatch(\n",
        "            graph=batch_trees,\n",
        "            mask=batch_trees.ndata[\"mask\"].to(device),\n",
        "            wordid=batch_trees.ndata[\"x\"].to(device),\n",
        "            label=batch_trees.ndata[\"y\"].to(device),\n",
        "            hierarchy_type=batch_trees.ndata[\"hierarchy_type\"].to(device),\n",
        "            relation_type=batch_trees.ndata[\"relation_type\"].to(device),\n",
        "        )\n",
        "\n",
        "    return batcher_dev\n",
        "\n",
        "\n",
        "\n",
        "np.random.seed(args.seed)\n",
        "th.manual_seed(args.seed)\n",
        "th.cuda.manual_seed(args.seed)\n",
        "\n",
        "\n",
        "\n",
        "cuda = args.gpu >= 0\n",
        "device = th.device(\"cuda:{}\".format(args.gpu)) if cuda else th.device(\"cpu\")\n",
        "if cuda:\n",
        "    th.cuda.set_device(args.gpu)\n",
        "\n",
        "\n",
        "trainset = DLSTMDataset()\n",
        "trainset.process()\n",
        "\n",
        "\n",
        "train_loader = DataLoader(\n",
        "    dataset=trainset,\n",
        "    batch_size= args.batch_size,\n",
        "    collate_fn=batcher(device),\n",
        "    shuffle=True,\n",
        "    num_workers=0,\n",
        ")\n",
        "\n",
        "\n",
        "devset = DLSTMDataset(mode='dev')\n",
        "devset.process()\n",
        "dev_loader = DataLoader(\n",
        "    dataset=devset,\n",
        "    batch_size=1,\n",
        "    collate_fn=batcher(device),\n",
        "    shuffle=False,\n",
        "    num_workers=0,\n",
        ")\n",
        "\n",
        "testset = DLSTMDataset(mode='test')\n",
        "testset.process()\n",
        "test_loader = DataLoader(\n",
        "    dataset=testset,\n",
        "    batch_size=1,\n",
        "    collate_fn=batcher(device),\n",
        "    shuffle=False,\n",
        "    num_workers=0,\n",
        ")\n",
        "\n",
        "\n",
        "\n"
      ],
      "metadata": {
        "id": "B5aCuRdfI3m1",
        "colab": {
          "base_uri": "https://localhost:8080/"
        },
        "outputId": "67509b34-0f6b-4768-a782-c884c339f802"
      },
      "execution_count": null,
      "outputs": [
        {
          "output_type": "stream",
          "name": "stdout",
          "text": [
            "Miss word in GloVe 0.0493\n"
          ]
        }
      ]
    },
    {
      "cell_type": "markdown",
      "source": [
        "##**Train/Dev/Test Process**"
      ],
      "metadata": {
        "id": "PrvrckYmxcZZ"
      }
    },
    {
      "cell_type": "markdown",
      "source": [
        "###The model were Trained, Validated and Tested using the following components:\n",
        "*   Loss Function: Binary Cross Entropy\n",
        "*   Optimizer: Adam\n",
        "*   Performance Metrics: Precision, recall and F1 score\n",
        "\n"
      ],
      "metadata": {
        "id": "heduMpKG4K8W"
      }
    },
    {
      "cell_type": "code",
      "source": [
        "from sklearn.metrics import precision_score, recall_score, f1_score, precision_recall_curve\n",
        "\n",
        "model = DiscourseLSTM(\n",
        "    trainset.vocab_size,\n",
        "    args.x_size,\n",
        "    args.h_size,\n",
        "    trainset.num_classes,\n",
        "    args.dropout,\n",
        "    args.num_relations,\n",
        "    cell_type=\"childsum\" ,\n",
        "    pretrained_emb=trainset.pretrained_emb,\n",
        ").to(device)\n",
        "print(model)\n",
        "params_ex_emb = [\n",
        "    x\n",
        "    for x in list(model.parameters())\n",
        "    if x.requires_grad and x.size(0) != trainset.vocab_size\n",
        "]\n",
        "\n",
        "params_emb = list(model.embedding.parameters())\n",
        "\n",
        "\n",
        "for p in params_ex_emb:\n",
        "    if p.dim() > 1:\n",
        "        INIT.xavier_uniform_(p)\n",
        "\n",
        "optimizer = optim.Adam(\n",
        "    [\n",
        "        {\n",
        "            \"params\": params_ex_emb,\n",
        "            \"lr\": args.lr,\n",
        "            \"weight_decay\": args.weight_decay,\n",
        "        },\n",
        "        {\"params\": params_emb, \"lr\": 0.1 * args.lr},\n",
        "    ]\n",
        ")\n",
        "\n",
        "\n",
        "best_epoch = -1\n",
        "best_precision_dev = -1\n",
        "for epoch in range(args.epochs):\n",
        "    t_epoch = time.time()\n",
        "    model.train()\n",
        "    pred_list_train = []\n",
        "    label_list_train = []\n",
        "\n",
        "    for step, batch in enumerate(train_loader):\n",
        "        g = batch.graph.to(device)\n",
        "        n = g.num_nodes()\n",
        "        h = th.zeros((n, args.h_size)).to(device)\n",
        "        c = th.zeros((n, args.h_size)).to(device)\n",
        "        logits = model(batch, g, h, c)\n",
        "\n",
        "        pred = th.sigmoid(logits)\n",
        "        pred_class_1 = pred[: , 1]\n",
        "        loss = F.binary_cross_entropy(pred_class_1, batch.label.float())\n",
        "\n",
        "        optimizer.zero_grad()\n",
        "        loss.backward()\n",
        "        optimizer.step()\n",
        "\n",
        "        pred_index = []\n",
        "\n",
        "        for i in pred:\n",
        "\n",
        "            pred_val, index = torch.max(i, dim=0)\n",
        "            if index == 0:\n",
        "                pred_index.append(index.item())\n",
        "            else:\n",
        "                pred_index.append(index.item())\n",
        "\n",
        "        for i in range(len(pred_index)):\n",
        "\n",
        "          pred_list_train.append(pred_index[i])\n",
        "          label_list_train.append(batch.label[i].item())\n",
        "\n",
        "    print(\n",
        "        \"Epoch {:05d} training time {:.4f}s\".format(\n",
        "            epoch, time.time() - t_epoch\n",
        "        )\n",
        "    )\n",
        "\n",
        "\n",
        "    # Apply a threshold (e.g., 0.5) to convert prediction scores into binary predictions\n",
        "    threshold = 0.5\n",
        "    predicted_labels = [1 if score >= threshold else 0 for score in pred_list_train]\n",
        "\n",
        "    precision_train = precision_score(label_list_train, predicted_labels)\n",
        "\n",
        "    recall_train = recall_score(label_list_train, predicted_labels)\n",
        "\n",
        "    f1_train = f1_score(label_list_train, predicted_labels)\n",
        "\n",
        "    print(\n",
        "        \"epoch: {} Train set: precision {:.4f} | recall {:.4f} | f1 {:.4f}\".format(\n",
        "            epoch, precision_train, recall_train, f1_train\n",
        "        )\n",
        "    )\n",
        "\n",
        "    # eval on dev set\n",
        "    pred_list_dev = []\n",
        "    label_list_dev = []\n",
        "    model.eval()\n",
        "    for step, batch in enumerate(dev_loader):\n",
        "\n",
        "        g = batch.graph.to(device)\n",
        "        n = g.num_nodes()\n",
        "        with th.no_grad():\n",
        "            h = th.zeros((n, args.h_size)).to(device)\n",
        "            c = th.zeros((n, args.h_size)).to(device)\n",
        "            logits = model(batch, g, h, c)\n",
        "\n",
        "        pred = th.sigmoid(logits)\n",
        "        pred_class_1 = pred[: , 1]\n",
        "\n",
        "        pred_index = []\n",
        "\n",
        "        for i in pred:\n",
        "\n",
        "            pred_val, index = torch.max(i, dim=0)\n",
        "            if index == 0:\n",
        "                pred_index.append(index.item())\n",
        "            else:\n",
        "                pred_index.append(index.item())\n",
        "\n",
        "        for i in range(len(pred_index)):\n",
        "\n",
        "          pred_list_dev.append(pred_index[i])\n",
        "          label_list_dev.append(batch.label[i].item())\n",
        "\n",
        "\n",
        "    # Apply a threshold (e.g., 0.5) to convert prediction scores into binary predictions\n",
        "    threshold = 0.5\n",
        "    predicted_labels = [1 if score >= threshold else 0 for score in pred_list_dev]\n",
        "\n",
        "    precision_dev = precision_score(label_list_dev, predicted_labels)\n",
        "\n",
        "    recall_dev = recall_score(label_list_dev, predicted_labels)\n",
        "\n",
        "    f1_dev = f1_score(label_list_dev, predicted_labels)\n",
        "\n",
        "    print(\n",
        "        \"Dev set: precision {:.4f} | recall {:.4f} | f1 {:.4f}\".format(\n",
        "             precision_dev, recall_dev, f1_dev\n",
        "        )\n",
        "    )\n",
        "\n",
        "\n",
        "    if precision_dev > best_precision_dev:\n",
        "\n",
        "      best_precision_dev = precision_dev\n",
        "      best_epoch = epoch\n",
        "      th.save(model.state_dict(), \"best_{}.pkl\".format(args.seed))\n",
        "      print('saved best.pkl...........................................')\n",
        "      print('best epoch {}'.format(best_epoch))\n",
        "\n",
        "    # lr decay\n",
        "    for param_group in optimizer.param_groups:\n",
        "        param_group[\"lr\"] = max(1e-5, param_group[\"lr\"] * 0.99)  # 10\n",
        "\n",
        "\n",
        "# test\n",
        "model.load_state_dict(th.load(\"best_{}.pkl\".format(args.seed)))\n",
        "\n",
        "\n",
        "pred_list_test = []\n",
        "label_list_test = []\n",
        "\n",
        "model.eval()\n",
        "\n",
        "for step, batch in enumerate(test_loader):\n",
        "    g = batch.graph.to(device)\n",
        "    n = g.num_nodes()\n",
        "    with th.no_grad():\n",
        "        h = th.zeros((n, args.h_size)).to(device)\n",
        "        c = th.zeros((n, args.h_size)).to(device)\n",
        "        logits = model(batch, g, h, c)\n",
        "\n",
        "    pred = th.sigmoid(logits)\n",
        "    pred_class_1 = pred[: , 1]\n",
        "\n",
        "    pred_index = []\n",
        "\n",
        "    for i in pred:\n",
        "\n",
        "        pred_val, index = torch.max(i, dim=0)\n",
        "        if index == 0:\n",
        "            pred_index.append(index.item())\n",
        "        else:\n",
        "            pred_index.append(index.item())\n",
        "\n",
        "    for i in range(len(pred_index)):\n",
        "\n",
        "      pred_list_test.append(pred_index[i])\n",
        "      label_list_test.append(batch.label[i].item())\n",
        "\n",
        "\n",
        "precision, recall, thresholds = precision_recall_curve(label_list_test , pred_list_test )\n",
        "\n",
        "# Apply a threshold (e.g., 0.5) to convert prediction scores into binary predictions\n",
        "threshold = 0.5\n",
        "predicted_labels = [1 if score >= threshold else 0 for score in pred_list_test]\n",
        "\n",
        "precision_test = precision_score(label_list_test, predicted_labels)\n",
        "\n",
        "recall_test = recall_score(label_list_test, predicted_labels)\n",
        "\n",
        "f1_test = f1_score(label_list_test, predicted_labels)\n",
        "\n",
        "print(\n",
        "    \"------------------------------------------------------------------------------------\"\n",
        ")\n",
        "\n",
        "print(\n",
        "        \"Test set: precision {:.4f} | recall {:.4f} | f1 {:.4f}\".format(\n",
        "            precision_test, recall_test, f1_test\n",
        "        )\n",
        "    )"
      ],
      "metadata": {
        "id": "BqkorpdjxW0v",
        "colab": {
          "base_uri": "https://localhost:8080/"
        },
        "outputId": "7f4f1a31-6729-4c8c-c9c5-660e46d55bec"
      },
      "execution_count": null,
      "outputs": [
        {
          "output_type": "stream",
          "name": "stdout",
          "text": [
            "Using glove\n",
            "DiscourseLSTM(\n",
            "  (embedding): Embedding(1015, 300)\n",
            "  (dropout): Dropout(p=0.5, inplace=False)\n",
            "  (linear): Linear(in_features=150, out_features=2, bias=True)\n",
            "  (cell): ChildSumDiscourseLSTMCell(\n",
            "    (W_iou): Linear(in_features=300, out_features=450, bias=False)\n",
            "  )\n",
            ")\n"
          ]
        },
        {
          "output_type": "stream",
          "name": "stderr",
          "text": [
            "/usr/local/lib/python3.10/dist-packages/dgl/core.py:82: DGLWarning: The input graph for the user-defined edge function does not contain valid edges\n",
            "  dgl_warning(\n"
          ]
        },
        {
          "output_type": "stream",
          "name": "stdout",
          "text": [
            "Epoch 00000 training time 1.9360s\n",
            "epoch: 0 Train set: precision 0.7941 | recall 0.9643 | f1 0.8710\n"
          ]
        },
        {
          "output_type": "stream",
          "name": "stderr",
          "text": [
            "/usr/local/lib/python3.10/dist-packages/dgl/core.py:82: DGLWarning: The input graph for the user-defined edge function does not contain valid edges\n",
            "  dgl_warning(\n"
          ]
        },
        {
          "output_type": "stream",
          "name": "stdout",
          "text": [
            "Dev set: precision 0.8500 | recall 1.0000 | f1 0.9189\n",
            "saved best.pkl...........................................\n",
            "best epoch 0\n"
          ]
        },
        {
          "output_type": "stream",
          "name": "stderr",
          "text": [
            "/usr/local/lib/python3.10/dist-packages/dgl/core.py:82: DGLWarning: The input graph for the user-defined edge function does not contain valid edges\n",
            "  dgl_warning(\n"
          ]
        },
        {
          "output_type": "stream",
          "name": "stdout",
          "text": [
            "Epoch 00001 training time 1.6362s\n",
            "epoch: 1 Train set: precision 0.7971 | recall 0.9821 | f1 0.8800\n"
          ]
        },
        {
          "output_type": "stream",
          "name": "stderr",
          "text": [
            "/usr/local/lib/python3.10/dist-packages/dgl/core.py:82: DGLWarning: The input graph for the user-defined edge function does not contain valid edges\n",
            "  dgl_warning(\n"
          ]
        },
        {
          "output_type": "stream",
          "name": "stdout",
          "text": [
            "Dev set: precision 0.8500 | recall 1.0000 | f1 0.9189\n"
          ]
        },
        {
          "output_type": "stream",
          "name": "stderr",
          "text": [
            "/usr/local/lib/python3.10/dist-packages/dgl/core.py:82: DGLWarning: The input graph for the user-defined edge function does not contain valid edges\n",
            "  dgl_warning(\n"
          ]
        },
        {
          "output_type": "stream",
          "name": "stdout",
          "text": [
            "Epoch 00002 training time 1.8142s\n",
            "epoch: 2 Train set: precision 0.8000 | recall 1.0000 | f1 0.8889\n"
          ]
        },
        {
          "output_type": "stream",
          "name": "stderr",
          "text": [
            "/usr/local/lib/python3.10/dist-packages/dgl/core.py:82: DGLWarning: The input graph for the user-defined edge function does not contain valid edges\n",
            "  dgl_warning(\n"
          ]
        },
        {
          "output_type": "stream",
          "name": "stdout",
          "text": [
            "Dev set: precision 0.8500 | recall 1.0000 | f1 0.9189\n"
          ]
        },
        {
          "output_type": "stream",
          "name": "stderr",
          "text": [
            "/usr/local/lib/python3.10/dist-packages/dgl/core.py:82: DGLWarning: The input graph for the user-defined edge function does not contain valid edges\n",
            "  dgl_warning(\n"
          ]
        },
        {
          "output_type": "stream",
          "name": "stdout",
          "text": [
            "Epoch 00003 training time 1.5789s\n",
            "epoch: 3 Train set: precision 0.7971 | recall 0.9821 | f1 0.8800\n"
          ]
        },
        {
          "output_type": "stream",
          "name": "stderr",
          "text": [
            "/usr/local/lib/python3.10/dist-packages/dgl/core.py:82: DGLWarning: The input graph for the user-defined edge function does not contain valid edges\n",
            "  dgl_warning(\n"
          ]
        },
        {
          "output_type": "stream",
          "name": "stdout",
          "text": [
            "Dev set: precision 0.8500 | recall 1.0000 | f1 0.9189\n"
          ]
        },
        {
          "output_type": "stream",
          "name": "stderr",
          "text": [
            "/usr/local/lib/python3.10/dist-packages/dgl/core.py:82: DGLWarning: The input graph for the user-defined edge function does not contain valid edges\n",
            "  dgl_warning(\n"
          ]
        },
        {
          "output_type": "stream",
          "name": "stdout",
          "text": [
            "Epoch 00004 training time 2.3986s\n",
            "epoch: 4 Train set: precision 0.7971 | recall 0.9821 | f1 0.8800\n"
          ]
        },
        {
          "output_type": "stream",
          "name": "stderr",
          "text": [
            "/usr/local/lib/python3.10/dist-packages/dgl/core.py:82: DGLWarning: The input graph for the user-defined edge function does not contain valid edges\n",
            "  dgl_warning(\n"
          ]
        },
        {
          "output_type": "stream",
          "name": "stdout",
          "text": [
            "Dev set: precision 0.8500 | recall 1.0000 | f1 0.9189\n"
          ]
        },
        {
          "output_type": "stream",
          "name": "stderr",
          "text": [
            "/usr/local/lib/python3.10/dist-packages/dgl/core.py:82: DGLWarning: The input graph for the user-defined edge function does not contain valid edges\n",
            "  dgl_warning(\n"
          ]
        },
        {
          "output_type": "stream",
          "name": "stdout",
          "text": [
            "Epoch 00005 training time 2.0724s\n",
            "epoch: 5 Train set: precision 0.7937 | recall 0.8929 | f1 0.8403\n"
          ]
        },
        {
          "output_type": "stream",
          "name": "stderr",
          "text": [
            "/usr/local/lib/python3.10/dist-packages/dgl/core.py:82: DGLWarning: The input graph for the user-defined edge function does not contain valid edges\n",
            "  dgl_warning(\n"
          ]
        },
        {
          "output_type": "stream",
          "name": "stdout",
          "text": [
            "Dev set: precision 0.8500 | recall 1.0000 | f1 0.9189\n"
          ]
        },
        {
          "output_type": "stream",
          "name": "stderr",
          "text": [
            "/usr/local/lib/python3.10/dist-packages/dgl/core.py:82: DGLWarning: The input graph for the user-defined edge function does not contain valid edges\n",
            "  dgl_warning(\n"
          ]
        },
        {
          "output_type": "stream",
          "name": "stdout",
          "text": [
            "Epoch 00006 training time 1.7510s\n",
            "epoch: 6 Train set: precision 0.8060 | recall 0.9643 | f1 0.8780\n"
          ]
        },
        {
          "output_type": "stream",
          "name": "stderr",
          "text": [
            "/usr/local/lib/python3.10/dist-packages/dgl/core.py:82: DGLWarning: The input graph for the user-defined edge function does not contain valid edges\n",
            "  dgl_warning(\n"
          ]
        },
        {
          "output_type": "stream",
          "name": "stdout",
          "text": [
            "Dev set: precision 0.8500 | recall 1.0000 | f1 0.9189\n"
          ]
        },
        {
          "output_type": "stream",
          "name": "stderr",
          "text": [
            "/usr/local/lib/python3.10/dist-packages/dgl/core.py:82: DGLWarning: The input graph for the user-defined edge function does not contain valid edges\n",
            "  dgl_warning(\n"
          ]
        },
        {
          "output_type": "stream",
          "name": "stdout",
          "text": [
            "Epoch 00007 training time 1.6593s\n",
            "epoch: 7 Train set: precision 0.7969 | recall 0.9107 | f1 0.8500\n"
          ]
        },
        {
          "output_type": "stream",
          "name": "stderr",
          "text": [
            "/usr/local/lib/python3.10/dist-packages/dgl/core.py:82: DGLWarning: The input graph for the user-defined edge function does not contain valid edges\n",
            "  dgl_warning(\n"
          ]
        },
        {
          "output_type": "stream",
          "name": "stdout",
          "text": [
            "Dev set: precision 0.8500 | recall 1.0000 | f1 0.9189\n"
          ]
        },
        {
          "output_type": "stream",
          "name": "stderr",
          "text": [
            "/usr/local/lib/python3.10/dist-packages/dgl/core.py:82: DGLWarning: The input graph for the user-defined edge function does not contain valid edges\n",
            "  dgl_warning(\n"
          ]
        },
        {
          "output_type": "stream",
          "name": "stdout",
          "text": [
            "Epoch 00008 training time 1.7824s\n",
            "epoch: 8 Train set: precision 0.7941 | recall 0.9643 | f1 0.8710\n"
          ]
        },
        {
          "output_type": "stream",
          "name": "stderr",
          "text": [
            "/usr/local/lib/python3.10/dist-packages/dgl/core.py:82: DGLWarning: The input graph for the user-defined edge function does not contain valid edges\n",
            "  dgl_warning(\n"
          ]
        },
        {
          "output_type": "stream",
          "name": "stdout",
          "text": [
            "Dev set: precision 0.8500 | recall 1.0000 | f1 0.9189\n"
          ]
        },
        {
          "output_type": "stream",
          "name": "stderr",
          "text": [
            "/usr/local/lib/python3.10/dist-packages/dgl/core.py:82: DGLWarning: The input graph for the user-defined edge function does not contain valid edges\n",
            "  dgl_warning(\n"
          ]
        },
        {
          "output_type": "stream",
          "name": "stdout",
          "text": [
            "Epoch 00009 training time 1.6901s\n",
            "epoch: 9 Train set: precision 0.8116 | recall 1.0000 | f1 0.8960\n"
          ]
        },
        {
          "output_type": "stream",
          "name": "stderr",
          "text": [
            "/usr/local/lib/python3.10/dist-packages/dgl/core.py:82: DGLWarning: The input graph for the user-defined edge function does not contain valid edges\n",
            "  dgl_warning(\n"
          ]
        },
        {
          "output_type": "stream",
          "name": "stdout",
          "text": [
            "Dev set: precision 0.8500 | recall 1.0000 | f1 0.9189\n"
          ]
        },
        {
          "output_type": "stream",
          "name": "stderr",
          "text": [
            "/usr/local/lib/python3.10/dist-packages/dgl/core.py:82: DGLWarning: The input graph for the user-defined edge function does not contain valid edges\n",
            "  dgl_warning(\n"
          ]
        },
        {
          "output_type": "stream",
          "name": "stdout",
          "text": [
            "Epoch 00010 training time 2.5316s\n",
            "epoch: 10 Train set: precision 0.8060 | recall 0.9643 | f1 0.8780\n"
          ]
        },
        {
          "output_type": "stream",
          "name": "stderr",
          "text": [
            "/usr/local/lib/python3.10/dist-packages/dgl/core.py:82: DGLWarning: The input graph for the user-defined edge function does not contain valid edges\n",
            "  dgl_warning(\n"
          ]
        },
        {
          "output_type": "stream",
          "name": "stdout",
          "text": [
            "Dev set: precision 0.8500 | recall 1.0000 | f1 0.9189\n"
          ]
        },
        {
          "output_type": "stream",
          "name": "stderr",
          "text": [
            "/usr/local/lib/python3.10/dist-packages/dgl/core.py:82: DGLWarning: The input graph for the user-defined edge function does not contain valid edges\n",
            "  dgl_warning(\n"
          ]
        },
        {
          "output_type": "stream",
          "name": "stdout",
          "text": [
            "Epoch 00011 training time 1.9574s\n",
            "epoch: 11 Train set: precision 0.8088 | recall 0.9821 | f1 0.8871\n"
          ]
        },
        {
          "output_type": "stream",
          "name": "stderr",
          "text": [
            "/usr/local/lib/python3.10/dist-packages/dgl/core.py:82: DGLWarning: The input graph for the user-defined edge function does not contain valid edges\n",
            "  dgl_warning(\n"
          ]
        },
        {
          "output_type": "stream",
          "name": "stdout",
          "text": [
            "Dev set: precision 0.8500 | recall 1.0000 | f1 0.9189\n"
          ]
        },
        {
          "output_type": "stream",
          "name": "stderr",
          "text": [
            "/usr/local/lib/python3.10/dist-packages/dgl/core.py:82: DGLWarning: The input graph for the user-defined edge function does not contain valid edges\n",
            "  dgl_warning(\n"
          ]
        },
        {
          "output_type": "stream",
          "name": "stdout",
          "text": [
            "Epoch 00012 training time 1.7210s\n",
            "epoch: 12 Train set: precision 0.8125 | recall 0.9286 | f1 0.8667\n"
          ]
        },
        {
          "output_type": "stream",
          "name": "stderr",
          "text": [
            "/usr/local/lib/python3.10/dist-packages/dgl/core.py:82: DGLWarning: The input graph for the user-defined edge function does not contain valid edges\n",
            "  dgl_warning(\n"
          ]
        },
        {
          "output_type": "stream",
          "name": "stdout",
          "text": [
            "Dev set: precision 0.8500 | recall 1.0000 | f1 0.9189\n"
          ]
        },
        {
          "output_type": "stream",
          "name": "stderr",
          "text": [
            "/usr/local/lib/python3.10/dist-packages/dgl/core.py:82: DGLWarning: The input graph for the user-defined edge function does not contain valid edges\n",
            "  dgl_warning(\n"
          ]
        },
        {
          "output_type": "stream",
          "name": "stdout",
          "text": [
            "Epoch 00013 training time 1.7877s\n",
            "epoch: 13 Train set: precision 0.8209 | recall 0.9821 | f1 0.8943\n"
          ]
        },
        {
          "output_type": "stream",
          "name": "stderr",
          "text": [
            "/usr/local/lib/python3.10/dist-packages/dgl/core.py:82: DGLWarning: The input graph for the user-defined edge function does not contain valid edges\n",
            "  dgl_warning(\n"
          ]
        },
        {
          "output_type": "stream",
          "name": "stdout",
          "text": [
            "Dev set: precision 0.8500 | recall 1.0000 | f1 0.9189\n"
          ]
        },
        {
          "output_type": "stream",
          "name": "stderr",
          "text": [
            "/usr/local/lib/python3.10/dist-packages/dgl/core.py:82: DGLWarning: The input graph for the user-defined edge function does not contain valid edges\n",
            "  dgl_warning(\n"
          ]
        },
        {
          "output_type": "stream",
          "name": "stdout",
          "text": [
            "Epoch 00014 training time 1.6923s\n",
            "epoch: 14 Train set: precision 0.8182 | recall 0.9643 | f1 0.8852\n"
          ]
        },
        {
          "output_type": "stream",
          "name": "stderr",
          "text": [
            "/usr/local/lib/python3.10/dist-packages/dgl/core.py:82: DGLWarning: The input graph for the user-defined edge function does not contain valid edges\n",
            "  dgl_warning(\n"
          ]
        },
        {
          "output_type": "stream",
          "name": "stdout",
          "text": [
            "Dev set: precision 0.8500 | recall 1.0000 | f1 0.9189\n"
          ]
        },
        {
          "output_type": "stream",
          "name": "stderr",
          "text": [
            "/usr/local/lib/python3.10/dist-packages/dgl/core.py:82: DGLWarning: The input graph for the user-defined edge function does not contain valid edges\n",
            "  dgl_warning(\n"
          ]
        },
        {
          "output_type": "stream",
          "name": "stdout",
          "text": [
            "Epoch 00015 training time 1.7572s\n",
            "epoch: 15 Train set: precision 0.8209 | recall 0.9821 | f1 0.8943\n"
          ]
        },
        {
          "output_type": "stream",
          "name": "stderr",
          "text": [
            "/usr/local/lib/python3.10/dist-packages/dgl/core.py:82: DGLWarning: The input graph for the user-defined edge function does not contain valid edges\n",
            "  dgl_warning(\n"
          ]
        },
        {
          "output_type": "stream",
          "name": "stdout",
          "text": [
            "Dev set: precision 0.8500 | recall 1.0000 | f1 0.9189\n"
          ]
        },
        {
          "output_type": "stream",
          "name": "stderr",
          "text": [
            "/usr/local/lib/python3.10/dist-packages/dgl/core.py:82: DGLWarning: The input graph for the user-defined edge function does not contain valid edges\n",
            "  dgl_warning(\n"
          ]
        },
        {
          "output_type": "stream",
          "name": "stdout",
          "text": [
            "Epoch 00016 training time 2.5908s\n",
            "epoch: 16 Train set: precision 0.8060 | recall 0.9643 | f1 0.8780\n"
          ]
        },
        {
          "output_type": "stream",
          "name": "stderr",
          "text": [
            "/usr/local/lib/python3.10/dist-packages/dgl/core.py:82: DGLWarning: The input graph for the user-defined edge function does not contain valid edges\n",
            "  dgl_warning(\n"
          ]
        },
        {
          "output_type": "stream",
          "name": "stdout",
          "text": [
            "Dev set: precision 0.8500 | recall 1.0000 | f1 0.9189\n"
          ]
        },
        {
          "output_type": "stream",
          "name": "stderr",
          "text": [
            "/usr/local/lib/python3.10/dist-packages/dgl/core.py:82: DGLWarning: The input graph for the user-defined edge function does not contain valid edges\n",
            "  dgl_warning(\n"
          ]
        },
        {
          "output_type": "stream",
          "name": "stdout",
          "text": [
            "Epoch 00017 training time 1.8077s\n",
            "epoch: 17 Train set: precision 0.8060 | recall 0.9643 | f1 0.8780\n"
          ]
        },
        {
          "output_type": "stream",
          "name": "stderr",
          "text": [
            "/usr/local/lib/python3.10/dist-packages/dgl/core.py:82: DGLWarning: The input graph for the user-defined edge function does not contain valid edges\n",
            "  dgl_warning(\n"
          ]
        },
        {
          "output_type": "stream",
          "name": "stdout",
          "text": [
            "Dev set: precision 0.8500 | recall 1.0000 | f1 0.9189\n"
          ]
        },
        {
          "output_type": "stream",
          "name": "stderr",
          "text": [
            "/usr/local/lib/python3.10/dist-packages/dgl/core.py:82: DGLWarning: The input graph for the user-defined edge function does not contain valid edges\n",
            "  dgl_warning(\n"
          ]
        },
        {
          "output_type": "stream",
          "name": "stdout",
          "text": [
            "Epoch 00018 training time 1.7085s\n",
            "epoch: 18 Train set: precision 0.7971 | recall 0.9821 | f1 0.8800\n"
          ]
        },
        {
          "output_type": "stream",
          "name": "stderr",
          "text": [
            "/usr/local/lib/python3.10/dist-packages/dgl/core.py:82: DGLWarning: The input graph for the user-defined edge function does not contain valid edges\n",
            "  dgl_warning(\n"
          ]
        },
        {
          "output_type": "stream",
          "name": "stdout",
          "text": [
            "Dev set: precision 0.8500 | recall 1.0000 | f1 0.9189\n"
          ]
        },
        {
          "output_type": "stream",
          "name": "stderr",
          "text": [
            "/usr/local/lib/python3.10/dist-packages/dgl/core.py:82: DGLWarning: The input graph for the user-defined edge function does not contain valid edges\n",
            "  dgl_warning(\n"
          ]
        },
        {
          "output_type": "stream",
          "name": "stdout",
          "text": [
            "Epoch 00019 training time 1.5811s\n",
            "epoch: 19 Train set: precision 0.7941 | recall 0.9643 | f1 0.8710\n"
          ]
        },
        {
          "output_type": "stream",
          "name": "stderr",
          "text": [
            "/usr/local/lib/python3.10/dist-packages/dgl/core.py:82: DGLWarning: The input graph for the user-defined edge function does not contain valid edges\n",
            "  dgl_warning(\n"
          ]
        },
        {
          "output_type": "stream",
          "name": "stdout",
          "text": [
            "Dev set: precision 0.8500 | recall 1.0000 | f1 0.9189\n"
          ]
        },
        {
          "output_type": "stream",
          "name": "stderr",
          "text": [
            "/usr/local/lib/python3.10/dist-packages/dgl/core.py:82: DGLWarning: The input graph for the user-defined edge function does not contain valid edges\n",
            "  dgl_warning(\n"
          ]
        },
        {
          "output_type": "stream",
          "name": "stdout",
          "text": [
            "Epoch 00020 training time 1.8767s\n",
            "epoch: 20 Train set: precision 0.7910 | recall 0.9464 | f1 0.8618\n"
          ]
        },
        {
          "output_type": "stream",
          "name": "stderr",
          "text": [
            "/usr/local/lib/python3.10/dist-packages/dgl/core.py:82: DGLWarning: The input graph for the user-defined edge function does not contain valid edges\n",
            "  dgl_warning(\n"
          ]
        },
        {
          "output_type": "stream",
          "name": "stdout",
          "text": [
            "Dev set: precision 0.8500 | recall 1.0000 | f1 0.9189\n"
          ]
        },
        {
          "output_type": "stream",
          "name": "stderr",
          "text": [
            "/usr/local/lib/python3.10/dist-packages/dgl/core.py:82: DGLWarning: The input graph for the user-defined edge function does not contain valid edges\n",
            "  dgl_warning(\n"
          ]
        },
        {
          "output_type": "stream",
          "name": "stdout",
          "text": [
            "Epoch 00021 training time 1.8585s\n",
            "epoch: 21 Train set: precision 0.8333 | recall 0.8929 | f1 0.8621\n"
          ]
        },
        {
          "output_type": "stream",
          "name": "stderr",
          "text": [
            "/usr/local/lib/python3.10/dist-packages/dgl/core.py:82: DGLWarning: The input graph for the user-defined edge function does not contain valid edges\n",
            "  dgl_warning(\n"
          ]
        },
        {
          "output_type": "stream",
          "name": "stdout",
          "text": [
            "Dev set: precision 0.8500 | recall 1.0000 | f1 0.9189\n"
          ]
        },
        {
          "output_type": "stream",
          "name": "stderr",
          "text": [
            "/usr/local/lib/python3.10/dist-packages/dgl/core.py:82: DGLWarning: The input graph for the user-defined edge function does not contain valid edges\n",
            "  dgl_warning(\n"
          ]
        },
        {
          "output_type": "stream",
          "name": "stdout",
          "text": [
            "Epoch 00022 training time 2.6776s\n",
            "epoch: 22 Train set: precision 0.8030 | recall 0.9464 | f1 0.8689\n"
          ]
        },
        {
          "output_type": "stream",
          "name": "stderr",
          "text": [
            "/usr/local/lib/python3.10/dist-packages/dgl/core.py:82: DGLWarning: The input graph for the user-defined edge function does not contain valid edges\n",
            "  dgl_warning(\n"
          ]
        },
        {
          "output_type": "stream",
          "name": "stdout",
          "text": [
            "Dev set: precision 0.8000 | recall 0.7059 | f1 0.7500\n"
          ]
        },
        {
          "output_type": "stream",
          "name": "stderr",
          "text": [
            "/usr/local/lib/python3.10/dist-packages/dgl/core.py:82: DGLWarning: The input graph for the user-defined edge function does not contain valid edges\n",
            "  dgl_warning(\n"
          ]
        },
        {
          "output_type": "stream",
          "name": "stdout",
          "text": [
            "Epoch 00023 training time 1.8648s\n",
            "epoch: 23 Train set: precision 0.7969 | recall 0.9107 | f1 0.8500\n"
          ]
        },
        {
          "output_type": "stream",
          "name": "stderr",
          "text": [
            "/usr/local/lib/python3.10/dist-packages/dgl/core.py:82: DGLWarning: The input graph for the user-defined edge function does not contain valid edges\n",
            "  dgl_warning(\n"
          ]
        },
        {
          "output_type": "stream",
          "name": "stdout",
          "text": [
            "Dev set: precision 0.8500 | recall 1.0000 | f1 0.9189\n"
          ]
        },
        {
          "output_type": "stream",
          "name": "stderr",
          "text": [
            "/usr/local/lib/python3.10/dist-packages/dgl/core.py:82: DGLWarning: The input graph for the user-defined edge function does not contain valid edges\n",
            "  dgl_warning(\n"
          ]
        },
        {
          "output_type": "stream",
          "name": "stdout",
          "text": [
            "Epoch 00024 training time 1.6059s\n",
            "epoch: 24 Train set: precision 0.7910 | recall 0.9464 | f1 0.8618\n"
          ]
        },
        {
          "output_type": "stream",
          "name": "stderr",
          "text": [
            "/usr/local/lib/python3.10/dist-packages/dgl/core.py:82: DGLWarning: The input graph for the user-defined edge function does not contain valid edges\n",
            "  dgl_warning(\n"
          ]
        },
        {
          "output_type": "stream",
          "name": "stdout",
          "text": [
            "Dev set: precision 0.8500 | recall 1.0000 | f1 0.9189\n"
          ]
        },
        {
          "output_type": "stream",
          "name": "stderr",
          "text": [
            "/usr/local/lib/python3.10/dist-packages/dgl/core.py:82: DGLWarning: The input graph for the user-defined edge function does not contain valid edges\n",
            "  dgl_warning(\n"
          ]
        },
        {
          "output_type": "stream",
          "name": "stdout",
          "text": [
            "Epoch 00025 training time 1.8718s\n",
            "epoch: 25 Train set: precision 0.8154 | recall 0.9464 | f1 0.8760\n"
          ]
        },
        {
          "output_type": "stream",
          "name": "stderr",
          "text": [
            "/usr/local/lib/python3.10/dist-packages/dgl/core.py:82: DGLWarning: The input graph for the user-defined edge function does not contain valid edges\n",
            "  dgl_warning(\n"
          ]
        },
        {
          "output_type": "stream",
          "name": "stdout",
          "text": [
            "Dev set: precision 0.8500 | recall 1.0000 | f1 0.9189\n"
          ]
        },
        {
          "output_type": "stream",
          "name": "stderr",
          "text": [
            "/usr/local/lib/python3.10/dist-packages/dgl/core.py:82: DGLWarning: The input graph for the user-defined edge function does not contain valid edges\n",
            "  dgl_warning(\n"
          ]
        },
        {
          "output_type": "stream",
          "name": "stdout",
          "text": [
            "Epoch 00026 training time 1.7214s\n",
            "epoch: 26 Train set: precision 0.7879 | recall 0.9286 | f1 0.8525\n"
          ]
        },
        {
          "output_type": "stream",
          "name": "stderr",
          "text": [
            "/usr/local/lib/python3.10/dist-packages/dgl/core.py:82: DGLWarning: The input graph for the user-defined edge function does not contain valid edges\n",
            "  dgl_warning(\n"
          ]
        },
        {
          "output_type": "stream",
          "name": "stdout",
          "text": [
            "Dev set: precision 0.8500 | recall 1.0000 | f1 0.9189\n"
          ]
        },
        {
          "output_type": "stream",
          "name": "stderr",
          "text": [
            "/usr/local/lib/python3.10/dist-packages/dgl/core.py:82: DGLWarning: The input graph for the user-defined edge function does not contain valid edges\n",
            "  dgl_warning(\n"
          ]
        },
        {
          "output_type": "stream",
          "name": "stdout",
          "text": [
            "Epoch 00027 training time 1.7355s\n",
            "epoch: 27 Train set: precision 0.7910 | recall 0.9464 | f1 0.8618\n"
          ]
        },
        {
          "output_type": "stream",
          "name": "stderr",
          "text": [
            "/usr/local/lib/python3.10/dist-packages/dgl/core.py:82: DGLWarning: The input graph for the user-defined edge function does not contain valid edges\n",
            "  dgl_warning(\n"
          ]
        },
        {
          "output_type": "stream",
          "name": "stdout",
          "text": [
            "Dev set: precision 0.8500 | recall 1.0000 | f1 0.9189\n"
          ]
        },
        {
          "output_type": "stream",
          "name": "stderr",
          "text": [
            "/usr/local/lib/python3.10/dist-packages/dgl/core.py:82: DGLWarning: The input graph for the user-defined edge function does not contain valid edges\n",
            "  dgl_warning(\n"
          ]
        },
        {
          "output_type": "stream",
          "name": "stdout",
          "text": [
            "Epoch 00028 training time 2.5724s\n",
            "epoch: 28 Train set: precision 0.7879 | recall 0.9286 | f1 0.8525\n"
          ]
        },
        {
          "output_type": "stream",
          "name": "stderr",
          "text": [
            "/usr/local/lib/python3.10/dist-packages/dgl/core.py:82: DGLWarning: The input graph for the user-defined edge function does not contain valid edges\n",
            "  dgl_warning(\n"
          ]
        },
        {
          "output_type": "stream",
          "name": "stdout",
          "text": [
            "Dev set: precision 0.8500 | recall 1.0000 | f1 0.9189\n"
          ]
        },
        {
          "output_type": "stream",
          "name": "stderr",
          "text": [
            "/usr/local/lib/python3.10/dist-packages/dgl/core.py:82: DGLWarning: The input graph for the user-defined edge function does not contain valid edges\n",
            "  dgl_warning(\n"
          ]
        },
        {
          "output_type": "stream",
          "name": "stdout",
          "text": [
            "Epoch 00029 training time 1.9249s\n",
            "epoch: 29 Train set: precision 0.7971 | recall 0.9821 | f1 0.8800\n"
          ]
        },
        {
          "output_type": "stream",
          "name": "stderr",
          "text": [
            "/usr/local/lib/python3.10/dist-packages/dgl/core.py:82: DGLWarning: The input graph for the user-defined edge function does not contain valid edges\n",
            "  dgl_warning(\n"
          ]
        },
        {
          "output_type": "stream",
          "name": "stdout",
          "text": [
            "Dev set: precision 0.8500 | recall 1.0000 | f1 0.9189\n"
          ]
        },
        {
          "output_type": "stream",
          "name": "stderr",
          "text": [
            "/usr/local/lib/python3.10/dist-packages/dgl/core.py:82: DGLWarning: The input graph for the user-defined edge function does not contain valid edges\n",
            "  dgl_warning(\n"
          ]
        },
        {
          "output_type": "stream",
          "name": "stdout",
          "text": [
            "Epoch 00030 training time 1.9505s\n",
            "epoch: 30 Train set: precision 0.7879 | recall 0.9286 | f1 0.8525\n"
          ]
        },
        {
          "output_type": "stream",
          "name": "stderr",
          "text": [
            "/usr/local/lib/python3.10/dist-packages/dgl/core.py:82: DGLWarning: The input graph for the user-defined edge function does not contain valid edges\n",
            "  dgl_warning(\n"
          ]
        },
        {
          "output_type": "stream",
          "name": "stdout",
          "text": [
            "Dev set: precision 0.8500 | recall 1.0000 | f1 0.9189\n"
          ]
        },
        {
          "output_type": "stream",
          "name": "stderr",
          "text": [
            "/usr/local/lib/python3.10/dist-packages/dgl/core.py:82: DGLWarning: The input graph for the user-defined edge function does not contain valid edges\n",
            "  dgl_warning(\n"
          ]
        },
        {
          "output_type": "stream",
          "name": "stdout",
          "text": [
            "Epoch 00031 training time 1.7368s\n",
            "epoch: 31 Train set: precision 0.8060 | recall 0.9643 | f1 0.8780\n"
          ]
        },
        {
          "output_type": "stream",
          "name": "stderr",
          "text": [
            "/usr/local/lib/python3.10/dist-packages/dgl/core.py:82: DGLWarning: The input graph for the user-defined edge function does not contain valid edges\n",
            "  dgl_warning(\n"
          ]
        },
        {
          "output_type": "stream",
          "name": "stdout",
          "text": [
            "Dev set: precision 0.8500 | recall 1.0000 | f1 0.9189\n"
          ]
        },
        {
          "output_type": "stream",
          "name": "stderr",
          "text": [
            "/usr/local/lib/python3.10/dist-packages/dgl/core.py:82: DGLWarning: The input graph for the user-defined edge function does not contain valid edges\n",
            "  dgl_warning(\n"
          ]
        },
        {
          "output_type": "stream",
          "name": "stdout",
          "text": [
            "Epoch 00032 training time 1.8902s\n",
            "epoch: 32 Train set: precision 0.7971 | recall 0.9821 | f1 0.8800\n"
          ]
        },
        {
          "output_type": "stream",
          "name": "stderr",
          "text": [
            "/usr/local/lib/python3.10/dist-packages/dgl/core.py:82: DGLWarning: The input graph for the user-defined edge function does not contain valid edges\n",
            "  dgl_warning(\n"
          ]
        },
        {
          "output_type": "stream",
          "name": "stdout",
          "text": [
            "Dev set: precision 0.8500 | recall 1.0000 | f1 0.9189\n"
          ]
        },
        {
          "output_type": "stream",
          "name": "stderr",
          "text": [
            "/usr/local/lib/python3.10/dist-packages/dgl/core.py:82: DGLWarning: The input graph for the user-defined edge function does not contain valid edges\n",
            "  dgl_warning(\n"
          ]
        },
        {
          "output_type": "stream",
          "name": "stdout",
          "text": [
            "Epoch 00033 training time 2.0710s\n",
            "epoch: 33 Train set: precision 0.8030 | recall 0.9464 | f1 0.8689\n"
          ]
        },
        {
          "output_type": "stream",
          "name": "stderr",
          "text": [
            "/usr/local/lib/python3.10/dist-packages/dgl/core.py:82: DGLWarning: The input graph for the user-defined edge function does not contain valid edges\n",
            "  dgl_warning(\n"
          ]
        },
        {
          "output_type": "stream",
          "name": "stdout",
          "text": [
            "Dev set: precision 0.8500 | recall 1.0000 | f1 0.9189\n"
          ]
        },
        {
          "output_type": "stream",
          "name": "stderr",
          "text": [
            "/usr/local/lib/python3.10/dist-packages/dgl/core.py:82: DGLWarning: The input graph for the user-defined edge function does not contain valid edges\n",
            "  dgl_warning(\n"
          ]
        },
        {
          "output_type": "stream",
          "name": "stdout",
          "text": [
            "Epoch 00034 training time 2.4444s\n",
            "epoch: 34 Train set: precision 0.8125 | recall 0.9286 | f1 0.8667\n"
          ]
        },
        {
          "output_type": "stream",
          "name": "stderr",
          "text": [
            "/usr/local/lib/python3.10/dist-packages/dgl/core.py:82: DGLWarning: The input graph for the user-defined edge function does not contain valid edges\n",
            "  dgl_warning(\n"
          ]
        },
        {
          "output_type": "stream",
          "name": "stdout",
          "text": [
            "Dev set: precision 0.8500 | recall 1.0000 | f1 0.9189\n"
          ]
        },
        {
          "output_type": "stream",
          "name": "stderr",
          "text": [
            "/usr/local/lib/python3.10/dist-packages/dgl/core.py:82: DGLWarning: The input graph for the user-defined edge function does not contain valid edges\n",
            "  dgl_warning(\n"
          ]
        },
        {
          "output_type": "stream",
          "name": "stdout",
          "text": [
            "Epoch 00035 training time 1.8459s\n",
            "epoch: 35 Train set: precision 0.7941 | recall 0.9643 | f1 0.8710\n"
          ]
        },
        {
          "output_type": "stream",
          "name": "stderr",
          "text": [
            "/usr/local/lib/python3.10/dist-packages/dgl/core.py:82: DGLWarning: The input graph for the user-defined edge function does not contain valid edges\n",
            "  dgl_warning(\n"
          ]
        },
        {
          "output_type": "stream",
          "name": "stdout",
          "text": [
            "Dev set: precision 0.8500 | recall 1.0000 | f1 0.9189\n"
          ]
        },
        {
          "output_type": "stream",
          "name": "stderr",
          "text": [
            "/usr/local/lib/python3.10/dist-packages/dgl/core.py:82: DGLWarning: The input graph for the user-defined edge function does not contain valid edges\n",
            "  dgl_warning(\n"
          ]
        },
        {
          "output_type": "stream",
          "name": "stdout",
          "text": [
            "Epoch 00036 training time 1.5835s\n",
            "epoch: 36 Train set: precision 0.8060 | recall 0.9643 | f1 0.8780\n"
          ]
        },
        {
          "output_type": "stream",
          "name": "stderr",
          "text": [
            "/usr/local/lib/python3.10/dist-packages/dgl/core.py:82: DGLWarning: The input graph for the user-defined edge function does not contain valid edges\n",
            "  dgl_warning(\n"
          ]
        },
        {
          "output_type": "stream",
          "name": "stdout",
          "text": [
            "Dev set: precision 0.8500 | recall 1.0000 | f1 0.9189\n"
          ]
        },
        {
          "output_type": "stream",
          "name": "stderr",
          "text": [
            "/usr/local/lib/python3.10/dist-packages/dgl/core.py:82: DGLWarning: The input graph for the user-defined edge function does not contain valid edges\n",
            "  dgl_warning(\n"
          ]
        },
        {
          "output_type": "stream",
          "name": "stdout",
          "text": [
            "Epoch 00037 training time 1.7749s\n",
            "epoch: 37 Train set: precision 0.7971 | recall 0.9821 | f1 0.8800\n"
          ]
        },
        {
          "output_type": "stream",
          "name": "stderr",
          "text": [
            "/usr/local/lib/python3.10/dist-packages/dgl/core.py:82: DGLWarning: The input graph for the user-defined edge function does not contain valid edges\n",
            "  dgl_warning(\n"
          ]
        },
        {
          "output_type": "stream",
          "name": "stdout",
          "text": [
            "Dev set: precision 0.8500 | recall 1.0000 | f1 0.9189\n"
          ]
        },
        {
          "output_type": "stream",
          "name": "stderr",
          "text": [
            "/usr/local/lib/python3.10/dist-packages/dgl/core.py:82: DGLWarning: The input graph for the user-defined edge function does not contain valid edges\n",
            "  dgl_warning(\n"
          ]
        },
        {
          "output_type": "stream",
          "name": "stdout",
          "text": [
            "Epoch 00038 training time 1.7407s\n",
            "epoch: 38 Train set: precision 0.8060 | recall 0.9643 | f1 0.8780\n"
          ]
        },
        {
          "output_type": "stream",
          "name": "stderr",
          "text": [
            "/usr/local/lib/python3.10/dist-packages/dgl/core.py:82: DGLWarning: The input graph for the user-defined edge function does not contain valid edges\n",
            "  dgl_warning(\n"
          ]
        },
        {
          "output_type": "stream",
          "name": "stdout",
          "text": [
            "Dev set: precision 0.8500 | recall 1.0000 | f1 0.9189\n"
          ]
        },
        {
          "output_type": "stream",
          "name": "stderr",
          "text": [
            "/usr/local/lib/python3.10/dist-packages/dgl/core.py:82: DGLWarning: The input graph for the user-defined edge function does not contain valid edges\n",
            "  dgl_warning(\n"
          ]
        },
        {
          "output_type": "stream",
          "name": "stdout",
          "text": [
            "Epoch 00039 training time 2.3989s\n",
            "epoch: 39 Train set: precision 0.8000 | recall 1.0000 | f1 0.8889\n"
          ]
        },
        {
          "output_type": "stream",
          "name": "stderr",
          "text": [
            "/usr/local/lib/python3.10/dist-packages/dgl/core.py:82: DGLWarning: The input graph for the user-defined edge function does not contain valid edges\n",
            "  dgl_warning(\n"
          ]
        },
        {
          "output_type": "stream",
          "name": "stdout",
          "text": [
            "Dev set: precision 0.8500 | recall 1.0000 | f1 0.9189\n"
          ]
        },
        {
          "output_type": "stream",
          "name": "stderr",
          "text": [
            "/usr/local/lib/python3.10/dist-packages/dgl/core.py:82: DGLWarning: The input graph for the user-defined edge function does not contain valid edges\n",
            "  dgl_warning(\n"
          ]
        },
        {
          "output_type": "stream",
          "name": "stdout",
          "text": [
            "Epoch 00040 training time 2.1845s\n",
            "epoch: 40 Train set: precision 0.8235 | recall 1.0000 | f1 0.9032\n"
          ]
        },
        {
          "output_type": "stream",
          "name": "stderr",
          "text": [
            "/usr/local/lib/python3.10/dist-packages/dgl/core.py:82: DGLWarning: The input graph for the user-defined edge function does not contain valid edges\n",
            "  dgl_warning(\n"
          ]
        },
        {
          "output_type": "stream",
          "name": "stdout",
          "text": [
            "Dev set: precision 0.8500 | recall 1.0000 | f1 0.9189\n"
          ]
        },
        {
          "output_type": "stream",
          "name": "stderr",
          "text": [
            "/usr/local/lib/python3.10/dist-packages/dgl/core.py:82: DGLWarning: The input graph for the user-defined edge function does not contain valid edges\n",
            "  dgl_warning(\n"
          ]
        },
        {
          "output_type": "stream",
          "name": "stdout",
          "text": [
            "Epoch 00041 training time 1.7606s\n",
            "epoch: 41 Train set: precision 0.8116 | recall 1.0000 | f1 0.8960\n"
          ]
        },
        {
          "output_type": "stream",
          "name": "stderr",
          "text": [
            "/usr/local/lib/python3.10/dist-packages/dgl/core.py:82: DGLWarning: The input graph for the user-defined edge function does not contain valid edges\n",
            "  dgl_warning(\n"
          ]
        },
        {
          "output_type": "stream",
          "name": "stdout",
          "text": [
            "Dev set: precision 0.8500 | recall 1.0000 | f1 0.9189\n"
          ]
        },
        {
          "output_type": "stream",
          "name": "stderr",
          "text": [
            "/usr/local/lib/python3.10/dist-packages/dgl/core.py:82: DGLWarning: The input graph for the user-defined edge function does not contain valid edges\n",
            "  dgl_warning(\n"
          ]
        },
        {
          "output_type": "stream",
          "name": "stdout",
          "text": [
            "Epoch 00042 training time 1.7574s\n",
            "epoch: 42 Train set: precision 0.8000 | recall 1.0000 | f1 0.8889\n"
          ]
        },
        {
          "output_type": "stream",
          "name": "stderr",
          "text": [
            "/usr/local/lib/python3.10/dist-packages/dgl/core.py:82: DGLWarning: The input graph for the user-defined edge function does not contain valid edges\n",
            "  dgl_warning(\n"
          ]
        },
        {
          "output_type": "stream",
          "name": "stdout",
          "text": [
            "Dev set: precision 0.8500 | recall 1.0000 | f1 0.9189\n"
          ]
        },
        {
          "output_type": "stream",
          "name": "stderr",
          "text": [
            "/usr/local/lib/python3.10/dist-packages/dgl/core.py:82: DGLWarning: The input graph for the user-defined edge function does not contain valid edges\n",
            "  dgl_warning(\n"
          ]
        },
        {
          "output_type": "stream",
          "name": "stdout",
          "text": [
            "Epoch 00043 training time 1.6816s\n",
            "epoch: 43 Train set: precision 0.8226 | recall 0.9107 | f1 0.8644\n"
          ]
        },
        {
          "output_type": "stream",
          "name": "stderr",
          "text": [
            "/usr/local/lib/python3.10/dist-packages/dgl/core.py:82: DGLWarning: The input graph for the user-defined edge function does not contain valid edges\n",
            "  dgl_warning(\n"
          ]
        },
        {
          "output_type": "stream",
          "name": "stdout",
          "text": [
            "Dev set: precision 0.8500 | recall 1.0000 | f1 0.9189\n"
          ]
        },
        {
          "output_type": "stream",
          "name": "stderr",
          "text": [
            "/usr/local/lib/python3.10/dist-packages/dgl/core.py:82: DGLWarning: The input graph for the user-defined edge function does not contain valid edges\n",
            "  dgl_warning(\n"
          ]
        },
        {
          "output_type": "stream",
          "name": "stdout",
          "text": [
            "Epoch 00044 training time 1.7827s\n",
            "epoch: 44 Train set: precision 0.8000 | recall 1.0000 | f1 0.8889\n"
          ]
        },
        {
          "output_type": "stream",
          "name": "stderr",
          "text": [
            "/usr/local/lib/python3.10/dist-packages/dgl/core.py:82: DGLWarning: The input graph for the user-defined edge function does not contain valid edges\n",
            "  dgl_warning(\n"
          ]
        },
        {
          "output_type": "stream",
          "name": "stdout",
          "text": [
            "Dev set: precision 0.8500 | recall 1.0000 | f1 0.9189\n"
          ]
        },
        {
          "output_type": "stream",
          "name": "stderr",
          "text": [
            "/usr/local/lib/python3.10/dist-packages/dgl/core.py:82: DGLWarning: The input graph for the user-defined edge function does not contain valid edges\n",
            "  dgl_warning(\n"
          ]
        },
        {
          "output_type": "stream",
          "name": "stdout",
          "text": [
            "Epoch 00045 training time 2.5805s\n",
            "epoch: 45 Train set: precision 0.8060 | recall 0.9643 | f1 0.8780\n"
          ]
        },
        {
          "output_type": "stream",
          "name": "stderr",
          "text": [
            "/usr/local/lib/python3.10/dist-packages/dgl/core.py:82: DGLWarning: The input graph for the user-defined edge function does not contain valid edges\n",
            "  dgl_warning(\n"
          ]
        },
        {
          "output_type": "stream",
          "name": "stdout",
          "text": [
            "Dev set: precision 0.8500 | recall 1.0000 | f1 0.9189\n"
          ]
        },
        {
          "output_type": "stream",
          "name": "stderr",
          "text": [
            "/usr/local/lib/python3.10/dist-packages/dgl/core.py:82: DGLWarning: The input graph for the user-defined edge function does not contain valid edges\n",
            "  dgl_warning(\n"
          ]
        },
        {
          "output_type": "stream",
          "name": "stdout",
          "text": [
            "Epoch 00046 training time 1.9280s\n",
            "epoch: 46 Train set: precision 0.8060 | recall 0.9643 | f1 0.8780\n"
          ]
        },
        {
          "output_type": "stream",
          "name": "stderr",
          "text": [
            "/usr/local/lib/python3.10/dist-packages/dgl/core.py:82: DGLWarning: The input graph for the user-defined edge function does not contain valid edges\n",
            "  dgl_warning(\n"
          ]
        },
        {
          "output_type": "stream",
          "name": "stdout",
          "text": [
            "Dev set: precision 0.8500 | recall 1.0000 | f1 0.9189\n"
          ]
        },
        {
          "output_type": "stream",
          "name": "stderr",
          "text": [
            "/usr/local/lib/python3.10/dist-packages/dgl/core.py:82: DGLWarning: The input graph for the user-defined edge function does not contain valid edges\n",
            "  dgl_warning(\n"
          ]
        },
        {
          "output_type": "stream",
          "name": "stdout",
          "text": [
            "Epoch 00047 training time 1.9716s\n",
            "epoch: 47 Train set: precision 0.8030 | recall 0.9464 | f1 0.8689\n"
          ]
        },
        {
          "output_type": "stream",
          "name": "stderr",
          "text": [
            "/usr/local/lib/python3.10/dist-packages/dgl/core.py:82: DGLWarning: The input graph for the user-defined edge function does not contain valid edges\n",
            "  dgl_warning(\n"
          ]
        },
        {
          "output_type": "stream",
          "name": "stdout",
          "text": [
            "Dev set: precision 0.8500 | recall 1.0000 | f1 0.9189\n"
          ]
        },
        {
          "output_type": "stream",
          "name": "stderr",
          "text": [
            "/usr/local/lib/python3.10/dist-packages/dgl/core.py:82: DGLWarning: The input graph for the user-defined edge function does not contain valid edges\n",
            "  dgl_warning(\n"
          ]
        },
        {
          "output_type": "stream",
          "name": "stdout",
          "text": [
            "Epoch 00048 training time 2.0492s\n",
            "epoch: 48 Train set: precision 0.7971 | recall 0.9821 | f1 0.8800\n"
          ]
        },
        {
          "output_type": "stream",
          "name": "stderr",
          "text": [
            "/usr/local/lib/python3.10/dist-packages/dgl/core.py:82: DGLWarning: The input graph for the user-defined edge function does not contain valid edges\n",
            "  dgl_warning(\n"
          ]
        },
        {
          "output_type": "stream",
          "name": "stdout",
          "text": [
            "Dev set: precision 0.8500 | recall 1.0000 | f1 0.9189\n"
          ]
        },
        {
          "output_type": "stream",
          "name": "stderr",
          "text": [
            "/usr/local/lib/python3.10/dist-packages/dgl/core.py:82: DGLWarning: The input graph for the user-defined edge function does not contain valid edges\n",
            "  dgl_warning(\n"
          ]
        },
        {
          "output_type": "stream",
          "name": "stdout",
          "text": [
            "Epoch 00049 training time 1.8089s\n",
            "epoch: 49 Train set: precision 0.8281 | recall 0.9464 | f1 0.8833\n"
          ]
        },
        {
          "output_type": "stream",
          "name": "stderr",
          "text": [
            "/usr/local/lib/python3.10/dist-packages/dgl/core.py:82: DGLWarning: The input graph for the user-defined edge function does not contain valid edges\n",
            "  dgl_warning(\n"
          ]
        },
        {
          "output_type": "stream",
          "name": "stdout",
          "text": [
            "Dev set: precision 0.8500 | recall 1.0000 | f1 0.9189\n"
          ]
        },
        {
          "output_type": "stream",
          "name": "stderr",
          "text": [
            "/usr/local/lib/python3.10/dist-packages/dgl/core.py:82: DGLWarning: The input graph for the user-defined edge function does not contain valid edges\n",
            "  dgl_warning(\n"
          ]
        },
        {
          "output_type": "stream",
          "name": "stdout",
          "text": [
            "Epoch 00050 training time 2.3647s\n",
            "epoch: 50 Train set: precision 0.8235 | recall 1.0000 | f1 0.9032\n"
          ]
        },
        {
          "output_type": "stream",
          "name": "stderr",
          "text": [
            "/usr/local/lib/python3.10/dist-packages/dgl/core.py:82: DGLWarning: The input graph for the user-defined edge function does not contain valid edges\n",
            "  dgl_warning(\n"
          ]
        },
        {
          "output_type": "stream",
          "name": "stdout",
          "text": [
            "Dev set: precision 0.8500 | recall 1.0000 | f1 0.9189\n"
          ]
        },
        {
          "output_type": "stream",
          "name": "stderr",
          "text": [
            "/usr/local/lib/python3.10/dist-packages/dgl/core.py:82: DGLWarning: The input graph for the user-defined edge function does not contain valid edges\n",
            "  dgl_warning(\n"
          ]
        },
        {
          "output_type": "stream",
          "name": "stdout",
          "text": [
            "Epoch 00051 training time 2.7076s\n",
            "epoch: 51 Train set: precision 0.8154 | recall 0.9464 | f1 0.8760\n"
          ]
        },
        {
          "output_type": "stream",
          "name": "stderr",
          "text": [
            "/usr/local/lib/python3.10/dist-packages/dgl/core.py:82: DGLWarning: The input graph for the user-defined edge function does not contain valid edges\n",
            "  dgl_warning(\n"
          ]
        },
        {
          "output_type": "stream",
          "name": "stdout",
          "text": [
            "Dev set: precision 0.8500 | recall 1.0000 | f1 0.9189\n"
          ]
        },
        {
          "output_type": "stream",
          "name": "stderr",
          "text": [
            "/usr/local/lib/python3.10/dist-packages/dgl/core.py:82: DGLWarning: The input graph for the user-defined edge function does not contain valid edges\n",
            "  dgl_warning(\n"
          ]
        },
        {
          "output_type": "stream",
          "name": "stdout",
          "text": [
            "Epoch 00052 training time 1.9745s\n",
            "epoch: 52 Train set: precision 0.8182 | recall 0.9643 | f1 0.8852\n"
          ]
        },
        {
          "output_type": "stream",
          "name": "stderr",
          "text": [
            "/usr/local/lib/python3.10/dist-packages/dgl/core.py:82: DGLWarning: The input graph for the user-defined edge function does not contain valid edges\n",
            "  dgl_warning(\n"
          ]
        },
        {
          "output_type": "stream",
          "name": "stdout",
          "text": [
            "Dev set: precision 0.8500 | recall 1.0000 | f1 0.9189\n"
          ]
        },
        {
          "output_type": "stream",
          "name": "stderr",
          "text": [
            "/usr/local/lib/python3.10/dist-packages/dgl/core.py:82: DGLWarning: The input graph for the user-defined edge function does not contain valid edges\n",
            "  dgl_warning(\n"
          ]
        },
        {
          "output_type": "stream",
          "name": "stdout",
          "text": [
            "Epoch 00053 training time 1.9337s\n",
            "epoch: 53 Train set: precision 0.8088 | recall 0.9821 | f1 0.8871\n"
          ]
        },
        {
          "output_type": "stream",
          "name": "stderr",
          "text": [
            "/usr/local/lib/python3.10/dist-packages/dgl/core.py:82: DGLWarning: The input graph for the user-defined edge function does not contain valid edges\n",
            "  dgl_warning(\n"
          ]
        },
        {
          "output_type": "stream",
          "name": "stdout",
          "text": [
            "Dev set: precision 0.8500 | recall 1.0000 | f1 0.9189\n"
          ]
        },
        {
          "output_type": "stream",
          "name": "stderr",
          "text": [
            "/usr/local/lib/python3.10/dist-packages/dgl/core.py:82: DGLWarning: The input graph for the user-defined edge function does not contain valid edges\n",
            "  dgl_warning(\n"
          ]
        },
        {
          "output_type": "stream",
          "name": "stdout",
          "text": [
            "Epoch 00054 training time 1.7829s\n",
            "epoch: 54 Train set: precision 0.8060 | recall 0.9643 | f1 0.8780\n"
          ]
        },
        {
          "output_type": "stream",
          "name": "stderr",
          "text": [
            "/usr/local/lib/python3.10/dist-packages/dgl/core.py:82: DGLWarning: The input graph for the user-defined edge function does not contain valid edges\n",
            "  dgl_warning(\n"
          ]
        },
        {
          "output_type": "stream",
          "name": "stdout",
          "text": [
            "Dev set: precision 0.8500 | recall 1.0000 | f1 0.9189\n"
          ]
        },
        {
          "output_type": "stream",
          "name": "stderr",
          "text": [
            "/usr/local/lib/python3.10/dist-packages/dgl/core.py:82: DGLWarning: The input graph for the user-defined edge function does not contain valid edges\n",
            "  dgl_warning(\n"
          ]
        },
        {
          "output_type": "stream",
          "name": "stdout",
          "text": [
            "Epoch 00055 training time 1.6924s\n",
            "epoch: 55 Train set: precision 0.8154 | recall 0.9464 | f1 0.8760\n"
          ]
        },
        {
          "output_type": "stream",
          "name": "stderr",
          "text": [
            "/usr/local/lib/python3.10/dist-packages/dgl/core.py:82: DGLWarning: The input graph for the user-defined edge function does not contain valid edges\n",
            "  dgl_warning(\n"
          ]
        },
        {
          "output_type": "stream",
          "name": "stdout",
          "text": [
            "Dev set: precision 0.8500 | recall 1.0000 | f1 0.9189\n"
          ]
        },
        {
          "output_type": "stream",
          "name": "stderr",
          "text": [
            "/usr/local/lib/python3.10/dist-packages/dgl/core.py:82: DGLWarning: The input graph for the user-defined edge function does not contain valid edges\n",
            "  dgl_warning(\n"
          ]
        },
        {
          "output_type": "stream",
          "name": "stdout",
          "text": [
            "Epoch 00056 training time 2.6096s\n",
            "epoch: 56 Train set: precision 0.8182 | recall 0.9643 | f1 0.8852\n"
          ]
        },
        {
          "output_type": "stream",
          "name": "stderr",
          "text": [
            "/usr/local/lib/python3.10/dist-packages/dgl/core.py:82: DGLWarning: The input graph for the user-defined edge function does not contain valid edges\n",
            "  dgl_warning(\n"
          ]
        },
        {
          "output_type": "stream",
          "name": "stdout",
          "text": [
            "Dev set: precision 0.8500 | recall 1.0000 | f1 0.9189\n"
          ]
        },
        {
          "output_type": "stream",
          "name": "stderr",
          "text": [
            "/usr/local/lib/python3.10/dist-packages/dgl/core.py:82: DGLWarning: The input graph for the user-defined edge function does not contain valid edges\n",
            "  dgl_warning(\n"
          ]
        },
        {
          "output_type": "stream",
          "name": "stdout",
          "text": [
            "Epoch 00057 training time 1.8260s\n",
            "epoch: 57 Train set: precision 0.8000 | recall 0.9286 | f1 0.8595\n"
          ]
        },
        {
          "output_type": "stream",
          "name": "stderr",
          "text": [
            "/usr/local/lib/python3.10/dist-packages/dgl/core.py:82: DGLWarning: The input graph for the user-defined edge function does not contain valid edges\n",
            "  dgl_warning(\n"
          ]
        },
        {
          "output_type": "stream",
          "name": "stdout",
          "text": [
            "Dev set: precision 0.8500 | recall 1.0000 | f1 0.9189\n"
          ]
        },
        {
          "output_type": "stream",
          "name": "stderr",
          "text": [
            "/usr/local/lib/python3.10/dist-packages/dgl/core.py:82: DGLWarning: The input graph for the user-defined edge function does not contain valid edges\n",
            "  dgl_warning(\n"
          ]
        },
        {
          "output_type": "stream",
          "name": "stdout",
          "text": [
            "Epoch 00058 training time 1.7577s\n",
            "epoch: 58 Train set: precision 0.8088 | recall 0.9821 | f1 0.8871\n"
          ]
        },
        {
          "output_type": "stream",
          "name": "stderr",
          "text": [
            "/usr/local/lib/python3.10/dist-packages/dgl/core.py:82: DGLWarning: The input graph for the user-defined edge function does not contain valid edges\n",
            "  dgl_warning(\n"
          ]
        },
        {
          "output_type": "stream",
          "name": "stdout",
          "text": [
            "Dev set: precision 0.8500 | recall 1.0000 | f1 0.9189\n"
          ]
        },
        {
          "output_type": "stream",
          "name": "stderr",
          "text": [
            "/usr/local/lib/python3.10/dist-packages/dgl/core.py:82: DGLWarning: The input graph for the user-defined edge function does not contain valid edges\n",
            "  dgl_warning(\n"
          ]
        },
        {
          "output_type": "stream",
          "name": "stdout",
          "text": [
            "Epoch 00059 training time 1.7274s\n",
            "epoch: 59 Train set: precision 0.8060 | recall 0.9643 | f1 0.8780\n"
          ]
        },
        {
          "output_type": "stream",
          "name": "stderr",
          "text": [
            "/usr/local/lib/python3.10/dist-packages/dgl/core.py:82: DGLWarning: The input graph for the user-defined edge function does not contain valid edges\n",
            "  dgl_warning(\n"
          ]
        },
        {
          "output_type": "stream",
          "name": "stdout",
          "text": [
            "Dev set: precision 0.8500 | recall 1.0000 | f1 0.9189\n"
          ]
        },
        {
          "output_type": "stream",
          "name": "stderr",
          "text": [
            "/usr/local/lib/python3.10/dist-packages/dgl/core.py:82: DGLWarning: The input graph for the user-defined edge function does not contain valid edges\n",
            "  dgl_warning(\n"
          ]
        },
        {
          "output_type": "stream",
          "name": "stdout",
          "text": [
            "Epoch 00060 training time 1.8447s\n",
            "epoch: 60 Train set: precision 0.8088 | recall 0.9821 | f1 0.8871\n"
          ]
        },
        {
          "output_type": "stream",
          "name": "stderr",
          "text": [
            "/usr/local/lib/python3.10/dist-packages/dgl/core.py:82: DGLWarning: The input graph for the user-defined edge function does not contain valid edges\n",
            "  dgl_warning(\n"
          ]
        },
        {
          "output_type": "stream",
          "name": "stdout",
          "text": [
            "Dev set: precision 0.8500 | recall 1.0000 | f1 0.9189\n"
          ]
        },
        {
          "output_type": "stream",
          "name": "stderr",
          "text": [
            "/usr/local/lib/python3.10/dist-packages/dgl/core.py:82: DGLWarning: The input graph for the user-defined edge function does not contain valid edges\n",
            "  dgl_warning(\n"
          ]
        },
        {
          "output_type": "stream",
          "name": "stdout",
          "text": [
            "Epoch 00061 training time 1.7823s\n",
            "epoch: 61 Train set: precision 0.8209 | recall 0.9821 | f1 0.8943\n"
          ]
        },
        {
          "output_type": "stream",
          "name": "stderr",
          "text": [
            "/usr/local/lib/python3.10/dist-packages/dgl/core.py:82: DGLWarning: The input graph for the user-defined edge function does not contain valid edges\n",
            "  dgl_warning(\n"
          ]
        },
        {
          "output_type": "stream",
          "name": "stdout",
          "text": [
            "Dev set: precision 0.8500 | recall 1.0000 | f1 0.9189\n"
          ]
        },
        {
          "output_type": "stream",
          "name": "stderr",
          "text": [
            "/usr/local/lib/python3.10/dist-packages/dgl/core.py:82: DGLWarning: The input graph for the user-defined edge function does not contain valid edges\n",
            "  dgl_warning(\n"
          ]
        },
        {
          "output_type": "stream",
          "name": "stdout",
          "text": [
            "Epoch 00062 training time 2.5559s\n",
            "epoch: 62 Train set: precision 0.7941 | recall 0.9643 | f1 0.8710\n"
          ]
        },
        {
          "output_type": "stream",
          "name": "stderr",
          "text": [
            "/usr/local/lib/python3.10/dist-packages/dgl/core.py:82: DGLWarning: The input graph for the user-defined edge function does not contain valid edges\n",
            "  dgl_warning(\n"
          ]
        },
        {
          "output_type": "stream",
          "name": "stdout",
          "text": [
            "Dev set: precision 0.8500 | recall 1.0000 | f1 0.9189\n"
          ]
        },
        {
          "output_type": "stream",
          "name": "stderr",
          "text": [
            "/usr/local/lib/python3.10/dist-packages/dgl/core.py:82: DGLWarning: The input graph for the user-defined edge function does not contain valid edges\n",
            "  dgl_warning(\n"
          ]
        },
        {
          "output_type": "stream",
          "name": "stdout",
          "text": [
            "Epoch 00063 training time 1.8965s\n",
            "epoch: 63 Train set: precision 0.8000 | recall 1.0000 | f1 0.8889\n"
          ]
        },
        {
          "output_type": "stream",
          "name": "stderr",
          "text": [
            "/usr/local/lib/python3.10/dist-packages/dgl/core.py:82: DGLWarning: The input graph for the user-defined edge function does not contain valid edges\n",
            "  dgl_warning(\n"
          ]
        },
        {
          "output_type": "stream",
          "name": "stdout",
          "text": [
            "Dev set: precision 0.8500 | recall 1.0000 | f1 0.9189\n"
          ]
        },
        {
          "output_type": "stream",
          "name": "stderr",
          "text": [
            "/usr/local/lib/python3.10/dist-packages/dgl/core.py:82: DGLWarning: The input graph for the user-defined edge function does not contain valid edges\n",
            "  dgl_warning(\n"
          ]
        },
        {
          "output_type": "stream",
          "name": "stdout",
          "text": [
            "Epoch 00064 training time 1.8483s\n",
            "epoch: 64 Train set: precision 0.7941 | recall 0.9643 | f1 0.8710\n"
          ]
        },
        {
          "output_type": "stream",
          "name": "stderr",
          "text": [
            "/usr/local/lib/python3.10/dist-packages/dgl/core.py:82: DGLWarning: The input graph for the user-defined edge function does not contain valid edges\n",
            "  dgl_warning(\n"
          ]
        },
        {
          "output_type": "stream",
          "name": "stdout",
          "text": [
            "Dev set: precision 0.8500 | recall 1.0000 | f1 0.9189\n"
          ]
        },
        {
          "output_type": "stream",
          "name": "stderr",
          "text": [
            "/usr/local/lib/python3.10/dist-packages/dgl/core.py:82: DGLWarning: The input graph for the user-defined edge function does not contain valid edges\n",
            "  dgl_warning(\n"
          ]
        },
        {
          "output_type": "stream",
          "name": "stdout",
          "text": [
            "Epoch 00065 training time 1.8604s\n",
            "epoch: 65 Train set: precision 0.8088 | recall 0.9821 | f1 0.8871\n"
          ]
        },
        {
          "output_type": "stream",
          "name": "stderr",
          "text": [
            "/usr/local/lib/python3.10/dist-packages/dgl/core.py:82: DGLWarning: The input graph for the user-defined edge function does not contain valid edges\n",
            "  dgl_warning(\n"
          ]
        },
        {
          "output_type": "stream",
          "name": "stdout",
          "text": [
            "Dev set: precision 0.8500 | recall 1.0000 | f1 0.9189\n"
          ]
        },
        {
          "output_type": "stream",
          "name": "stderr",
          "text": [
            "/usr/local/lib/python3.10/dist-packages/dgl/core.py:82: DGLWarning: The input graph for the user-defined edge function does not contain valid edges\n",
            "  dgl_warning(\n"
          ]
        },
        {
          "output_type": "stream",
          "name": "stdout",
          "text": [
            "Epoch 00066 training time 1.9636s\n",
            "epoch: 66 Train set: precision 0.8116 | recall 1.0000 | f1 0.8960\n"
          ]
        },
        {
          "output_type": "stream",
          "name": "stderr",
          "text": [
            "/usr/local/lib/python3.10/dist-packages/dgl/core.py:82: DGLWarning: The input graph for the user-defined edge function does not contain valid edges\n",
            "  dgl_warning(\n"
          ]
        },
        {
          "output_type": "stream",
          "name": "stdout",
          "text": [
            "Dev set: precision 0.8500 | recall 1.0000 | f1 0.9189\n"
          ]
        },
        {
          "output_type": "stream",
          "name": "stderr",
          "text": [
            "/usr/local/lib/python3.10/dist-packages/dgl/core.py:82: DGLWarning: The input graph for the user-defined edge function does not contain valid edges\n",
            "  dgl_warning(\n"
          ]
        },
        {
          "output_type": "stream",
          "name": "stdout",
          "text": [
            "Epoch 00067 training time 2.2551s\n",
            "epoch: 67 Train set: precision 0.7971 | recall 0.9821 | f1 0.8800\n"
          ]
        },
        {
          "output_type": "stream",
          "name": "stderr",
          "text": [
            "/usr/local/lib/python3.10/dist-packages/dgl/core.py:82: DGLWarning: The input graph for the user-defined edge function does not contain valid edges\n",
            "  dgl_warning(\n"
          ]
        },
        {
          "output_type": "stream",
          "name": "stdout",
          "text": [
            "Dev set: precision 0.8500 | recall 1.0000 | f1 0.9189\n"
          ]
        },
        {
          "output_type": "stream",
          "name": "stderr",
          "text": [
            "/usr/local/lib/python3.10/dist-packages/dgl/core.py:82: DGLWarning: The input graph for the user-defined edge function does not contain valid edges\n",
            "  dgl_warning(\n"
          ]
        },
        {
          "output_type": "stream",
          "name": "stdout",
          "text": [
            "Epoch 00068 training time 2.2776s\n",
            "epoch: 68 Train set: precision 0.7971 | recall 0.9821 | f1 0.8800\n"
          ]
        },
        {
          "output_type": "stream",
          "name": "stderr",
          "text": [
            "/usr/local/lib/python3.10/dist-packages/dgl/core.py:82: DGLWarning: The input graph for the user-defined edge function does not contain valid edges\n",
            "  dgl_warning(\n"
          ]
        },
        {
          "output_type": "stream",
          "name": "stdout",
          "text": [
            "Dev set: precision 0.8500 | recall 1.0000 | f1 0.9189\n"
          ]
        },
        {
          "output_type": "stream",
          "name": "stderr",
          "text": [
            "/usr/local/lib/python3.10/dist-packages/dgl/core.py:82: DGLWarning: The input graph for the user-defined edge function does not contain valid edges\n",
            "  dgl_warning(\n"
          ]
        },
        {
          "output_type": "stream",
          "name": "stdout",
          "text": [
            "Epoch 00069 training time 1.8467s\n",
            "epoch: 69 Train set: precision 0.8182 | recall 0.9643 | f1 0.8852\n"
          ]
        },
        {
          "output_type": "stream",
          "name": "stderr",
          "text": [
            "/usr/local/lib/python3.10/dist-packages/dgl/core.py:82: DGLWarning: The input graph for the user-defined edge function does not contain valid edges\n",
            "  dgl_warning(\n"
          ]
        },
        {
          "output_type": "stream",
          "name": "stdout",
          "text": [
            "Dev set: precision 0.8500 | recall 1.0000 | f1 0.9189\n"
          ]
        },
        {
          "output_type": "stream",
          "name": "stderr",
          "text": [
            "/usr/local/lib/python3.10/dist-packages/dgl/core.py:82: DGLWarning: The input graph for the user-defined edge function does not contain valid edges\n",
            "  dgl_warning(\n"
          ]
        },
        {
          "output_type": "stream",
          "name": "stdout",
          "text": [
            "Epoch 00070 training time 1.6419s\n",
            "epoch: 70 Train set: precision 0.8358 | recall 1.0000 | f1 0.9106\n"
          ]
        },
        {
          "output_type": "stream",
          "name": "stderr",
          "text": [
            "/usr/local/lib/python3.10/dist-packages/dgl/core.py:82: DGLWarning: The input graph for the user-defined edge function does not contain valid edges\n",
            "  dgl_warning(\n"
          ]
        },
        {
          "output_type": "stream",
          "name": "stdout",
          "text": [
            "Dev set: precision 0.8500 | recall 1.0000 | f1 0.9189\n"
          ]
        },
        {
          "output_type": "stream",
          "name": "stderr",
          "text": [
            "/usr/local/lib/python3.10/dist-packages/dgl/core.py:82: DGLWarning: The input graph for the user-defined edge function does not contain valid edges\n",
            "  dgl_warning(\n"
          ]
        },
        {
          "output_type": "stream",
          "name": "stdout",
          "text": [
            "Epoch 00071 training time 1.8153s\n",
            "epoch: 71 Train set: precision 0.8000 | recall 1.0000 | f1 0.8889\n"
          ]
        },
        {
          "output_type": "stream",
          "name": "stderr",
          "text": [
            "/usr/local/lib/python3.10/dist-packages/dgl/core.py:82: DGLWarning: The input graph for the user-defined edge function does not contain valid edges\n",
            "  dgl_warning(\n"
          ]
        },
        {
          "output_type": "stream",
          "name": "stdout",
          "text": [
            "Dev set: precision 0.8500 | recall 1.0000 | f1 0.9189\n"
          ]
        },
        {
          "output_type": "stream",
          "name": "stderr",
          "text": [
            "/usr/local/lib/python3.10/dist-packages/dgl/core.py:82: DGLWarning: The input graph for the user-defined edge function does not contain valid edges\n",
            "  dgl_warning(\n"
          ]
        },
        {
          "output_type": "stream",
          "name": "stdout",
          "text": [
            "Epoch 00072 training time 1.8352s\n",
            "epoch: 72 Train set: precision 0.8030 | recall 0.9464 | f1 0.8689\n"
          ]
        },
        {
          "output_type": "stream",
          "name": "stderr",
          "text": [
            "/usr/local/lib/python3.10/dist-packages/dgl/core.py:82: DGLWarning: The input graph for the user-defined edge function does not contain valid edges\n",
            "  dgl_warning(\n"
          ]
        },
        {
          "output_type": "stream",
          "name": "stdout",
          "text": [
            "Dev set: precision 0.8500 | recall 1.0000 | f1 0.9189\n"
          ]
        },
        {
          "output_type": "stream",
          "name": "stderr",
          "text": [
            "/usr/local/lib/python3.10/dist-packages/dgl/core.py:82: DGLWarning: The input graph for the user-defined edge function does not contain valid edges\n",
            "  dgl_warning(\n"
          ]
        },
        {
          "output_type": "stream",
          "name": "stdout",
          "text": [
            "Epoch 00073 training time 2.4284s\n",
            "epoch: 73 Train set: precision 0.7941 | recall 0.9643 | f1 0.8710\n"
          ]
        },
        {
          "output_type": "stream",
          "name": "stderr",
          "text": [
            "/usr/local/lib/python3.10/dist-packages/dgl/core.py:82: DGLWarning: The input graph for the user-defined edge function does not contain valid edges\n",
            "  dgl_warning(\n"
          ]
        },
        {
          "output_type": "stream",
          "name": "stdout",
          "text": [
            "Dev set: precision 0.8500 | recall 1.0000 | f1 0.9189\n"
          ]
        },
        {
          "output_type": "stream",
          "name": "stderr",
          "text": [
            "/usr/local/lib/python3.10/dist-packages/dgl/core.py:82: DGLWarning: The input graph for the user-defined edge function does not contain valid edges\n",
            "  dgl_warning(\n"
          ]
        },
        {
          "output_type": "stream",
          "name": "stdout",
          "text": [
            "Epoch 00074 training time 1.9980s\n",
            "epoch: 74 Train set: precision 0.8333 | recall 0.9821 | f1 0.9016\n"
          ]
        },
        {
          "output_type": "stream",
          "name": "stderr",
          "text": [
            "/usr/local/lib/python3.10/dist-packages/dgl/core.py:82: DGLWarning: The input graph for the user-defined edge function does not contain valid edges\n",
            "  dgl_warning(\n"
          ]
        },
        {
          "output_type": "stream",
          "name": "stdout",
          "text": [
            "Dev set: precision 0.8500 | recall 1.0000 | f1 0.9189\n"
          ]
        },
        {
          "output_type": "stream",
          "name": "stderr",
          "text": [
            "/usr/local/lib/python3.10/dist-packages/dgl/core.py:82: DGLWarning: The input graph for the user-defined edge function does not contain valid edges\n",
            "  dgl_warning(\n"
          ]
        },
        {
          "output_type": "stream",
          "name": "stdout",
          "text": [
            "Epoch 00075 training time 1.6711s\n",
            "epoch: 75 Train set: precision 0.8116 | recall 1.0000 | f1 0.8960\n"
          ]
        },
        {
          "output_type": "stream",
          "name": "stderr",
          "text": [
            "/usr/local/lib/python3.10/dist-packages/dgl/core.py:82: DGLWarning: The input graph for the user-defined edge function does not contain valid edges\n",
            "  dgl_warning(\n"
          ]
        },
        {
          "output_type": "stream",
          "name": "stdout",
          "text": [
            "Dev set: precision 0.8500 | recall 1.0000 | f1 0.9189\n"
          ]
        },
        {
          "output_type": "stream",
          "name": "stderr",
          "text": [
            "/usr/local/lib/python3.10/dist-packages/dgl/core.py:82: DGLWarning: The input graph for the user-defined edge function does not contain valid edges\n",
            "  dgl_warning(\n"
          ]
        },
        {
          "output_type": "stream",
          "name": "stdout",
          "text": [
            "Epoch 00076 training time 1.8008s\n",
            "epoch: 76 Train set: precision 0.8000 | recall 1.0000 | f1 0.8889\n"
          ]
        },
        {
          "output_type": "stream",
          "name": "stderr",
          "text": [
            "/usr/local/lib/python3.10/dist-packages/dgl/core.py:82: DGLWarning: The input graph for the user-defined edge function does not contain valid edges\n",
            "  dgl_warning(\n"
          ]
        },
        {
          "output_type": "stream",
          "name": "stdout",
          "text": [
            "Dev set: precision 0.8500 | recall 1.0000 | f1 0.9189\n"
          ]
        },
        {
          "output_type": "stream",
          "name": "stderr",
          "text": [
            "/usr/local/lib/python3.10/dist-packages/dgl/core.py:82: DGLWarning: The input graph for the user-defined edge function does not contain valid edges\n",
            "  dgl_warning(\n"
          ]
        },
        {
          "output_type": "stream",
          "name": "stdout",
          "text": [
            "Epoch 00077 training time 1.7303s\n",
            "epoch: 77 Train set: precision 0.8209 | recall 0.9821 | f1 0.8943\n"
          ]
        },
        {
          "output_type": "stream",
          "name": "stderr",
          "text": [
            "/usr/local/lib/python3.10/dist-packages/dgl/core.py:82: DGLWarning: The input graph for the user-defined edge function does not contain valid edges\n",
            "  dgl_warning(\n"
          ]
        },
        {
          "output_type": "stream",
          "name": "stdout",
          "text": [
            "Dev set: precision 0.8500 | recall 1.0000 | f1 0.9189\n"
          ]
        },
        {
          "output_type": "stream",
          "name": "stderr",
          "text": [
            "/usr/local/lib/python3.10/dist-packages/dgl/core.py:82: DGLWarning: The input graph for the user-defined edge function does not contain valid edges\n",
            "  dgl_warning(\n"
          ]
        },
        {
          "output_type": "stream",
          "name": "stdout",
          "text": [
            "Epoch 00078 training time 1.7257s\n",
            "epoch: 78 Train set: precision 0.8182 | recall 0.9643 | f1 0.8852\n"
          ]
        },
        {
          "output_type": "stream",
          "name": "stderr",
          "text": [
            "/usr/local/lib/python3.10/dist-packages/dgl/core.py:82: DGLWarning: The input graph for the user-defined edge function does not contain valid edges\n",
            "  dgl_warning(\n"
          ]
        },
        {
          "output_type": "stream",
          "name": "stdout",
          "text": [
            "Dev set: precision 0.8500 | recall 1.0000 | f1 0.9189\n"
          ]
        },
        {
          "output_type": "stream",
          "name": "stderr",
          "text": [
            "/usr/local/lib/python3.10/dist-packages/dgl/core.py:82: DGLWarning: The input graph for the user-defined edge function does not contain valid edges\n",
            "  dgl_warning(\n"
          ]
        },
        {
          "output_type": "stream",
          "name": "stdout",
          "text": [
            "Epoch 00079 training time 2.4129s\n",
            "epoch: 79 Train set: precision 0.8088 | recall 0.9821 | f1 0.8871\n"
          ]
        },
        {
          "output_type": "stream",
          "name": "stderr",
          "text": [
            "/usr/local/lib/python3.10/dist-packages/dgl/core.py:82: DGLWarning: The input graph for the user-defined edge function does not contain valid edges\n",
            "  dgl_warning(\n"
          ]
        },
        {
          "output_type": "stream",
          "name": "stdout",
          "text": [
            "Dev set: precision 0.8500 | recall 1.0000 | f1 0.9189\n"
          ]
        },
        {
          "output_type": "stream",
          "name": "stderr",
          "text": [
            "/usr/local/lib/python3.10/dist-packages/dgl/core.py:82: DGLWarning: The input graph for the user-defined edge function does not contain valid edges\n",
            "  dgl_warning(\n"
          ]
        },
        {
          "output_type": "stream",
          "name": "stdout",
          "text": [
            "Epoch 00080 training time 2.0176s\n",
            "epoch: 80 Train set: precision 0.8358 | recall 1.0000 | f1 0.9106\n"
          ]
        },
        {
          "output_type": "stream",
          "name": "stderr",
          "text": [
            "/usr/local/lib/python3.10/dist-packages/dgl/core.py:82: DGLWarning: The input graph for the user-defined edge function does not contain valid edges\n",
            "  dgl_warning(\n"
          ]
        },
        {
          "output_type": "stream",
          "name": "stdout",
          "text": [
            "Dev set: precision 0.8500 | recall 1.0000 | f1 0.9189\n"
          ]
        },
        {
          "output_type": "stream",
          "name": "stderr",
          "text": [
            "/usr/local/lib/python3.10/dist-packages/dgl/core.py:82: DGLWarning: The input graph for the user-defined edge function does not contain valid edges\n",
            "  dgl_warning(\n"
          ]
        },
        {
          "output_type": "stream",
          "name": "stdout",
          "text": [
            "Epoch 00081 training time 1.6275s\n",
            "epoch: 81 Train set: precision 0.7941 | recall 0.9643 | f1 0.8710\n"
          ]
        },
        {
          "output_type": "stream",
          "name": "stderr",
          "text": [
            "/usr/local/lib/python3.10/dist-packages/dgl/core.py:82: DGLWarning: The input graph for the user-defined edge function does not contain valid edges\n",
            "  dgl_warning(\n"
          ]
        },
        {
          "output_type": "stream",
          "name": "stdout",
          "text": [
            "Dev set: precision 0.8500 | recall 1.0000 | f1 0.9189\n"
          ]
        },
        {
          "output_type": "stream",
          "name": "stderr",
          "text": [
            "/usr/local/lib/python3.10/dist-packages/dgl/core.py:82: DGLWarning: The input graph for the user-defined edge function does not contain valid edges\n",
            "  dgl_warning(\n"
          ]
        },
        {
          "output_type": "stream",
          "name": "stdout",
          "text": [
            "Epoch 00082 training time 1.8425s\n",
            "epoch: 82 Train set: precision 0.7910 | recall 0.9464 | f1 0.8618\n"
          ]
        },
        {
          "output_type": "stream",
          "name": "stderr",
          "text": [
            "/usr/local/lib/python3.10/dist-packages/dgl/core.py:82: DGLWarning: The input graph for the user-defined edge function does not contain valid edges\n",
            "  dgl_warning(\n"
          ]
        },
        {
          "output_type": "stream",
          "name": "stdout",
          "text": [
            "Dev set: precision 0.8500 | recall 1.0000 | f1 0.9189\n"
          ]
        },
        {
          "output_type": "stream",
          "name": "stderr",
          "text": [
            "/usr/local/lib/python3.10/dist-packages/dgl/core.py:82: DGLWarning: The input graph for the user-defined edge function does not contain valid edges\n",
            "  dgl_warning(\n"
          ]
        },
        {
          "output_type": "stream",
          "name": "stdout",
          "text": [
            "Epoch 00083 training time 1.6816s\n",
            "epoch: 83 Train set: precision 0.8000 | recall 1.0000 | f1 0.8889\n"
          ]
        },
        {
          "output_type": "stream",
          "name": "stderr",
          "text": [
            "/usr/local/lib/python3.10/dist-packages/dgl/core.py:82: DGLWarning: The input graph for the user-defined edge function does not contain valid edges\n",
            "  dgl_warning(\n"
          ]
        },
        {
          "output_type": "stream",
          "name": "stdout",
          "text": [
            "Dev set: precision 0.8500 | recall 1.0000 | f1 0.9189\n"
          ]
        },
        {
          "output_type": "stream",
          "name": "stderr",
          "text": [
            "/usr/local/lib/python3.10/dist-packages/dgl/core.py:82: DGLWarning: The input graph for the user-defined edge function does not contain valid edges\n",
            "  dgl_warning(\n"
          ]
        },
        {
          "output_type": "stream",
          "name": "stdout",
          "text": [
            "Epoch 00084 training time 1.7681s\n",
            "epoch: 84 Train set: precision 0.8088 | recall 0.9821 | f1 0.8871\n"
          ]
        },
        {
          "output_type": "stream",
          "name": "stderr",
          "text": [
            "/usr/local/lib/python3.10/dist-packages/dgl/core.py:82: DGLWarning: The input graph for the user-defined edge function does not contain valid edges\n",
            "  dgl_warning(\n"
          ]
        },
        {
          "output_type": "stream",
          "name": "stdout",
          "text": [
            "Dev set: precision 0.8500 | recall 1.0000 | f1 0.9189\n"
          ]
        },
        {
          "output_type": "stream",
          "name": "stderr",
          "text": [
            "/usr/local/lib/python3.10/dist-packages/dgl/core.py:82: DGLWarning: The input graph for the user-defined edge function does not contain valid edges\n",
            "  dgl_warning(\n"
          ]
        },
        {
          "output_type": "stream",
          "name": "stdout",
          "text": [
            "Epoch 00085 training time 2.4223s\n",
            "epoch: 85 Train set: precision 0.8060 | recall 0.9643 | f1 0.8780\n"
          ]
        },
        {
          "output_type": "stream",
          "name": "stderr",
          "text": [
            "/usr/local/lib/python3.10/dist-packages/dgl/core.py:82: DGLWarning: The input graph for the user-defined edge function does not contain valid edges\n",
            "  dgl_warning(\n"
          ]
        },
        {
          "output_type": "stream",
          "name": "stdout",
          "text": [
            "Dev set: precision 0.8500 | recall 1.0000 | f1 0.9189\n"
          ]
        },
        {
          "output_type": "stream",
          "name": "stderr",
          "text": [
            "/usr/local/lib/python3.10/dist-packages/dgl/core.py:82: DGLWarning: The input graph for the user-defined edge function does not contain valid edges\n",
            "  dgl_warning(\n"
          ]
        },
        {
          "output_type": "stream",
          "name": "stdout",
          "text": [
            "Epoch 00086 training time 2.0705s\n",
            "epoch: 86 Train set: precision 0.8116 | recall 1.0000 | f1 0.8960\n"
          ]
        },
        {
          "output_type": "stream",
          "name": "stderr",
          "text": [
            "/usr/local/lib/python3.10/dist-packages/dgl/core.py:82: DGLWarning: The input graph for the user-defined edge function does not contain valid edges\n",
            "  dgl_warning(\n"
          ]
        },
        {
          "output_type": "stream",
          "name": "stdout",
          "text": [
            "Dev set: precision 0.8500 | recall 1.0000 | f1 0.9189\n"
          ]
        },
        {
          "output_type": "stream",
          "name": "stderr",
          "text": [
            "/usr/local/lib/python3.10/dist-packages/dgl/core.py:82: DGLWarning: The input graph for the user-defined edge function does not contain valid edges\n",
            "  dgl_warning(\n"
          ]
        },
        {
          "output_type": "stream",
          "name": "stdout",
          "text": [
            "Epoch 00087 training time 1.8096s\n",
            "epoch: 87 Train set: precision 0.8116 | recall 1.0000 | f1 0.8960\n"
          ]
        },
        {
          "output_type": "stream",
          "name": "stderr",
          "text": [
            "/usr/local/lib/python3.10/dist-packages/dgl/core.py:82: DGLWarning: The input graph for the user-defined edge function does not contain valid edges\n",
            "  dgl_warning(\n"
          ]
        },
        {
          "output_type": "stream",
          "name": "stdout",
          "text": [
            "Dev set: precision 0.8500 | recall 1.0000 | f1 0.9189\n"
          ]
        },
        {
          "output_type": "stream",
          "name": "stderr",
          "text": [
            "/usr/local/lib/python3.10/dist-packages/dgl/core.py:82: DGLWarning: The input graph for the user-defined edge function does not contain valid edges\n",
            "  dgl_warning(\n"
          ]
        },
        {
          "output_type": "stream",
          "name": "stdout",
          "text": [
            "Epoch 00088 training time 1.6259s\n",
            "epoch: 88 Train set: precision 0.8088 | recall 0.9821 | f1 0.8871\n"
          ]
        },
        {
          "output_type": "stream",
          "name": "stderr",
          "text": [
            "/usr/local/lib/python3.10/dist-packages/dgl/core.py:82: DGLWarning: The input graph for the user-defined edge function does not contain valid edges\n",
            "  dgl_warning(\n"
          ]
        },
        {
          "output_type": "stream",
          "name": "stdout",
          "text": [
            "Dev set: precision 0.8500 | recall 1.0000 | f1 0.9189\n"
          ]
        },
        {
          "output_type": "stream",
          "name": "stderr",
          "text": [
            "/usr/local/lib/python3.10/dist-packages/dgl/core.py:82: DGLWarning: The input graph for the user-defined edge function does not contain valid edges\n",
            "  dgl_warning(\n"
          ]
        },
        {
          "output_type": "stream",
          "name": "stdout",
          "text": [
            "Epoch 00089 training time 1.5441s\n",
            "epoch: 89 Train set: precision 0.8116 | recall 1.0000 | f1 0.8960\n"
          ]
        },
        {
          "output_type": "stream",
          "name": "stderr",
          "text": [
            "/usr/local/lib/python3.10/dist-packages/dgl/core.py:82: DGLWarning: The input graph for the user-defined edge function does not contain valid edges\n",
            "  dgl_warning(\n"
          ]
        },
        {
          "output_type": "stream",
          "name": "stdout",
          "text": [
            "Dev set: precision 0.8500 | recall 1.0000 | f1 0.9189\n"
          ]
        },
        {
          "output_type": "stream",
          "name": "stderr",
          "text": [
            "/usr/local/lib/python3.10/dist-packages/dgl/core.py:82: DGLWarning: The input graph for the user-defined edge function does not contain valid edges\n",
            "  dgl_warning(\n"
          ]
        },
        {
          "output_type": "stream",
          "name": "stdout",
          "text": [
            "Epoch 00090 training time 1.5816s\n",
            "epoch: 90 Train set: precision 0.8088 | recall 0.9821 | f1 0.8871\n"
          ]
        },
        {
          "output_type": "stream",
          "name": "stderr",
          "text": [
            "/usr/local/lib/python3.10/dist-packages/dgl/core.py:82: DGLWarning: The input graph for the user-defined edge function does not contain valid edges\n",
            "  dgl_warning(\n"
          ]
        },
        {
          "output_type": "stream",
          "name": "stdout",
          "text": [
            "Dev set: precision 0.8500 | recall 1.0000 | f1 0.9189\n"
          ]
        },
        {
          "output_type": "stream",
          "name": "stderr",
          "text": [
            "/usr/local/lib/python3.10/dist-packages/dgl/core.py:82: DGLWarning: The input graph for the user-defined edge function does not contain valid edges\n",
            "  dgl_warning(\n"
          ]
        },
        {
          "output_type": "stream",
          "name": "stdout",
          "text": [
            "Epoch 00091 training time 2.3438s\n",
            "epoch: 91 Train set: precision 0.8000 | recall 1.0000 | f1 0.8889\n"
          ]
        },
        {
          "output_type": "stream",
          "name": "stderr",
          "text": [
            "/usr/local/lib/python3.10/dist-packages/dgl/core.py:82: DGLWarning: The input graph for the user-defined edge function does not contain valid edges\n",
            "  dgl_warning(\n"
          ]
        },
        {
          "output_type": "stream",
          "name": "stdout",
          "text": [
            "Dev set: precision 0.8500 | recall 1.0000 | f1 0.9189\n"
          ]
        },
        {
          "output_type": "stream",
          "name": "stderr",
          "text": [
            "/usr/local/lib/python3.10/dist-packages/dgl/core.py:82: DGLWarning: The input graph for the user-defined edge function does not contain valid edges\n",
            "  dgl_warning(\n"
          ]
        },
        {
          "output_type": "stream",
          "name": "stdout",
          "text": [
            "Epoch 00092 training time 2.0891s\n",
            "epoch: 92 Train set: precision 0.8226 | recall 0.9107 | f1 0.8644\n"
          ]
        },
        {
          "output_type": "stream",
          "name": "stderr",
          "text": [
            "/usr/local/lib/python3.10/dist-packages/dgl/core.py:82: DGLWarning: The input graph for the user-defined edge function does not contain valid edges\n",
            "  dgl_warning(\n"
          ]
        },
        {
          "output_type": "stream",
          "name": "stdout",
          "text": [
            "Dev set: precision 0.8500 | recall 1.0000 | f1 0.9189\n"
          ]
        },
        {
          "output_type": "stream",
          "name": "stderr",
          "text": [
            "/usr/local/lib/python3.10/dist-packages/dgl/core.py:82: DGLWarning: The input graph for the user-defined edge function does not contain valid edges\n",
            "  dgl_warning(\n"
          ]
        },
        {
          "output_type": "stream",
          "name": "stdout",
          "text": [
            "Epoch 00093 training time 1.7623s\n",
            "epoch: 93 Train set: precision 0.8209 | recall 0.9821 | f1 0.8943\n"
          ]
        },
        {
          "output_type": "stream",
          "name": "stderr",
          "text": [
            "/usr/local/lib/python3.10/dist-packages/dgl/core.py:82: DGLWarning: The input graph for the user-defined edge function does not contain valid edges\n",
            "  dgl_warning(\n"
          ]
        },
        {
          "output_type": "stream",
          "name": "stdout",
          "text": [
            "Dev set: precision 0.8500 | recall 1.0000 | f1 0.9189\n"
          ]
        },
        {
          "output_type": "stream",
          "name": "stderr",
          "text": [
            "/usr/local/lib/python3.10/dist-packages/dgl/core.py:82: DGLWarning: The input graph for the user-defined edge function does not contain valid edges\n",
            "  dgl_warning(\n"
          ]
        },
        {
          "output_type": "stream",
          "name": "stdout",
          "text": [
            "Epoch 00094 training time 1.7916s\n",
            "epoch: 94 Train set: precision 0.8485 | recall 1.0000 | f1 0.9180\n"
          ]
        },
        {
          "output_type": "stream",
          "name": "stderr",
          "text": [
            "/usr/local/lib/python3.10/dist-packages/dgl/core.py:82: DGLWarning: The input graph for the user-defined edge function does not contain valid edges\n",
            "  dgl_warning(\n"
          ]
        },
        {
          "output_type": "stream",
          "name": "stdout",
          "text": [
            "Dev set: precision 0.8500 | recall 1.0000 | f1 0.9189\n"
          ]
        },
        {
          "output_type": "stream",
          "name": "stderr",
          "text": [
            "/usr/local/lib/python3.10/dist-packages/dgl/core.py:82: DGLWarning: The input graph for the user-defined edge function does not contain valid edges\n",
            "  dgl_warning(\n"
          ]
        },
        {
          "output_type": "stream",
          "name": "stdout",
          "text": [
            "Epoch 00095 training time 1.8454s\n",
            "epoch: 95 Train set: precision 0.8209 | recall 0.9821 | f1 0.8943\n"
          ]
        },
        {
          "output_type": "stream",
          "name": "stderr",
          "text": [
            "/usr/local/lib/python3.10/dist-packages/dgl/core.py:82: DGLWarning: The input graph for the user-defined edge function does not contain valid edges\n",
            "  dgl_warning(\n"
          ]
        },
        {
          "output_type": "stream",
          "name": "stdout",
          "text": [
            "Dev set: precision 0.8500 | recall 1.0000 | f1 0.9189\n"
          ]
        },
        {
          "output_type": "stream",
          "name": "stderr",
          "text": [
            "/usr/local/lib/python3.10/dist-packages/dgl/core.py:82: DGLWarning: The input graph for the user-defined edge function does not contain valid edges\n",
            "  dgl_warning(\n"
          ]
        },
        {
          "output_type": "stream",
          "name": "stdout",
          "text": [
            "Epoch 00096 training time 1.8210s\n",
            "epoch: 96 Train set: precision 0.7971 | recall 0.9821 | f1 0.8800\n"
          ]
        },
        {
          "output_type": "stream",
          "name": "stderr",
          "text": [
            "/usr/local/lib/python3.10/dist-packages/dgl/core.py:82: DGLWarning: The input graph for the user-defined edge function does not contain valid edges\n",
            "  dgl_warning(\n"
          ]
        },
        {
          "output_type": "stream",
          "name": "stdout",
          "text": [
            "Dev set: precision 0.8500 | recall 1.0000 | f1 0.9189\n"
          ]
        },
        {
          "output_type": "stream",
          "name": "stderr",
          "text": [
            "/usr/local/lib/python3.10/dist-packages/dgl/core.py:82: DGLWarning: The input graph for the user-defined edge function does not contain valid edges\n",
            "  dgl_warning(\n"
          ]
        },
        {
          "output_type": "stream",
          "name": "stdout",
          "text": [
            "Epoch 00097 training time 2.4453s\n",
            "epoch: 97 Train set: precision 0.8235 | recall 1.0000 | f1 0.9032\n"
          ]
        },
        {
          "output_type": "stream",
          "name": "stderr",
          "text": [
            "/usr/local/lib/python3.10/dist-packages/dgl/core.py:82: DGLWarning: The input graph for the user-defined edge function does not contain valid edges\n",
            "  dgl_warning(\n"
          ]
        },
        {
          "output_type": "stream",
          "name": "stdout",
          "text": [
            "Dev set: precision 0.8500 | recall 1.0000 | f1 0.9189\n"
          ]
        },
        {
          "output_type": "stream",
          "name": "stderr",
          "text": [
            "/usr/local/lib/python3.10/dist-packages/dgl/core.py:82: DGLWarning: The input graph for the user-defined edge function does not contain valid edges\n",
            "  dgl_warning(\n"
          ]
        },
        {
          "output_type": "stream",
          "name": "stdout",
          "text": [
            "Epoch 00098 training time 1.9899s\n",
            "epoch: 98 Train set: precision 0.8154 | recall 0.9464 | f1 0.8760\n"
          ]
        },
        {
          "output_type": "stream",
          "name": "stderr",
          "text": [
            "/usr/local/lib/python3.10/dist-packages/dgl/core.py:82: DGLWarning: The input graph for the user-defined edge function does not contain valid edges\n",
            "  dgl_warning(\n"
          ]
        },
        {
          "output_type": "stream",
          "name": "stdout",
          "text": [
            "Dev set: precision 0.8500 | recall 1.0000 | f1 0.9189\n"
          ]
        },
        {
          "output_type": "stream",
          "name": "stderr",
          "text": [
            "/usr/local/lib/python3.10/dist-packages/dgl/core.py:82: DGLWarning: The input graph for the user-defined edge function does not contain valid edges\n",
            "  dgl_warning(\n"
          ]
        },
        {
          "output_type": "stream",
          "name": "stdout",
          "text": [
            "Epoch 00099 training time 1.5382s\n",
            "epoch: 99 Train set: precision 0.8116 | recall 1.0000 | f1 0.8960\n"
          ]
        },
        {
          "output_type": "stream",
          "name": "stderr",
          "text": [
            "/usr/local/lib/python3.10/dist-packages/dgl/core.py:82: DGLWarning: The input graph for the user-defined edge function does not contain valid edges\n",
            "  dgl_warning(\n"
          ]
        },
        {
          "output_type": "stream",
          "name": "stdout",
          "text": [
            "Dev set: precision 0.8500 | recall 1.0000 | f1 0.9189\n",
            "------------------------------------------------------------------------------------\n",
            "Test set: precision 0.8000 | recall 1.0000 | f1 0.8889\n"
          ]
        },
        {
          "output_type": "stream",
          "name": "stderr",
          "text": [
            "/usr/local/lib/python3.10/dist-packages/dgl/core.py:82: DGLWarning: The input graph for the user-defined edge function does not contain valid edges\n",
            "  dgl_warning(\n"
          ]
        }
      ]
    },
    {
      "cell_type": "markdown",
      "source": [
        "##**Developing a User Interface**\n",
        "###A simple UI were created to test the functionality of the model. This was done by using Python Streamlit Library. The UI incorporates a text area where users can input or paste potential scam messages they have received, along with a button to initiate the message analysis process.\n",
        "###The backend process includes:\n",
        "\n",
        "*   Parsing the user input into discourse tree\n",
        "*   Using the trained model to predict whether the text contains Scam utilizing pressure and coercion or does not.\n",
        "\n"
      ],
      "metadata": {
        "id": "Y7NgyEAKSkqE"
      }
    },
    {
      "cell_type": "code",
      "source": [
        "import re\n",
        "import os\n",
        "\n",
        "class Node:\n",
        "    def __init__(self, node_type, span, relation, text=None):\n",
        "        self.node_type = node_type\n",
        "        self.span = span\n",
        "        self.relation = relation\n",
        "        self.text = text\n",
        "        self.children = []\n",
        "\n",
        "    def add_child(self, child_node):\n",
        "        self.children.append(child_node)\n",
        "\n",
        "    def is_within_span(self, span):\n",
        "        if self.span is None:  # Root node\n",
        "            return True\n",
        "        return self.span[0] <= span[0] and self.span[1] >= span[1]\n",
        "\n",
        "    def __repr__(self):\n",
        "      if self.text is not None:\n",
        "          return f\"{self.node_type}({self.span}, {self.relation}, '{self.text}')\"\n",
        "      else:\n",
        "          return f\"{self.node_type}({self.span}, {self.relation}, {self.text})\"\n",
        "\n",
        "def parse_brackets(data):\n",
        "    pattern = re.compile(r\"\\(\\((\\d+), (\\d+)\\), '(\\w+)', '(\\w+)'\\)\")\n",
        "    parsed_data = []\n",
        "    for line in data.split('\\n'):\n",
        "        match = pattern.match(line)\n",
        "        if match:\n",
        "            parsed_data.append({\n",
        "                'start': int(match.group(1)),\n",
        "                'end': int(match.group(2)),\n",
        "                'type': match.group(3),\n",
        "                'relation': match.group(4)\n",
        "            })\n",
        "    return parsed_data\n",
        "\n",
        "def parse_merge(data):\n",
        "    parsed_data = []\n",
        "    for line in data.split('\\n'):\n",
        "        parts = line.split('\\t')\n",
        "        if len(parts) > 5:\n",
        "            parsed_data.append({\n",
        "                'index': int(parts[0]),\n",
        "                'word_index': int(parts[-1]),\n",
        "                'word': parts[2],\n",
        "                'lemma': parts[3],\n",
        "                'pos': parts[4],\n",
        "                'text': re.findall(r'_!\\((.*?)\\)_!', parts[-2])\n",
        "            })\n",
        "    return parsed_data\n",
        "\n",
        "def find_text_for_span(span_start, span_end, merge_data):\n",
        "    text_segments = []\n",
        "    for item in merge_data:\n",
        "        if span_start <= item['word_index'] <= span_end:\n",
        "            text_segments.append(item['word'])\n",
        "    return ' '.join(text_segments)\n",
        "\n",
        "def create_combined_structure(brackets_data, merge_data):\n",
        "    structure = []\n",
        "    for item in brackets_data:\n",
        "        text_content = find_text_for_span(item['start'], item['end'], merge_data)\n",
        "        structure.append({\n",
        "            'type': item['type'],\n",
        "            'span': (item['start'], item['end']),\n",
        "            'relation': item['relation'],\n",
        "            'text': text_content\n",
        "        })\n",
        "    return structure\n",
        "\n",
        "def create_tree_structure(elements):\n",
        "    root = Node(\"Root\", None, None)\n",
        "    stack = [root]\n",
        "\n",
        "    for element in elements:\n",
        "        new_node = Node(element['type'], element['span'], element['relation'], element['text'])\n",
        "\n",
        "        while not stack[-1].is_within_span(new_node.span):\n",
        "            stack.pop()\n",
        "\n",
        "        stack[-1].add_child(new_node)\n",
        "        stack.append(new_node)\n",
        "\n",
        "    return root\n",
        "\n",
        "def tree_to_string(node, indent=\"\"):\n",
        "    output = indent + str(node) + \"\\n\"\n",
        "    for child in node.children:\n",
        "        output += tree_to_string(child, indent + \"  \")\n",
        "    return output\n",
        "\n",
        "class File_size_0(Exception):\n",
        "    def __init__(self):\n",
        "        super().__init__()\n",
        "\n",
        "def combine():\n",
        "\n",
        "    # Reading the contents of the files\n",
        "    file_path_brackets = 'C:/Users/user/Desktop/FYPCode/DPLP/Data2/input.txt.brackets'\n",
        "    file_path_merge = 'C:/Users/user/Desktop/FYPCode/DPLP/Data2/input.txt.merge'\n",
        "\n",
        "    file_size_bytes = os.path.getsize(file_path_brackets)\n",
        "    file_size_kb = file_size_bytes / 1024\n",
        "\n",
        "    if file_size_kb == 0:\n",
        "        raise File_size_0()\n",
        "\n",
        "    with open(file_path_brackets, 'r') as file:\n",
        "        data_brackets = file.read()\n",
        "\n",
        "    with open(file_path_merge, 'r') as file:\n",
        "        data_merge = file.read()\n",
        "\n",
        "    # Process the data\n",
        "    parsed_brackets = parse_brackets(data_brackets)\n",
        "    parsed_merge = parse_merge(data_merge)\n",
        "\n",
        "    combined_structure = create_combined_structure(parsed_brackets, parsed_merge)\n",
        "    tree_structure = create_tree_structure(combined_structure)\n",
        "\n",
        "    return tree_to_string(tree_structure)\n",
        "\n"
      ],
      "metadata": {
        "id": "HwBFBb2olbGt"
      },
      "execution_count": null,
      "outputs": []
    },
    {
      "cell_type": "code",
      "source": [
        "from collections import OrderedDict\n",
        "import collections\n",
        "from matplotlib import pyplot as plt\n",
        "import torch as th\n",
        "import dgl\n",
        "import torch\n",
        "import re\n",
        "import gensim.downloader as api\n",
        "from nltk.tokenize import word_tokenize\n",
        "import dgl\n",
        "import numpy as np\n",
        "import torch as th\n",
        "import torch.nn as nn\n",
        "import networkx as nx\n",
        "import torch\n",
        "from gensim.models.keyedvectors import KeyedVectors\n",
        "\n",
        "\n",
        "def build_tree(data):\n",
        "\n",
        "\n",
        "    dgl_graph, node_types, relations, texts = parse_discourse_structure(data)\n",
        "\n",
        "    dgl_graph.ndata['x'] = torch.tensor(texts, dtype=torch.float32)\n",
        "    dgl_graph.ndata['hierarchy_type'] = torch.tensor(node_types, dtype=torch.int64)\n",
        "    dgl_graph.ndata['relation_type'] = torch.tensor(relations, dtype=torch.int64)\n",
        "\n",
        "\n",
        "    # Initialize 'mask' with ones\n",
        "    mask = torch.ones((len(texts)), dtype=torch.int64)\n",
        "\n",
        "    condition = dgl_graph.ndata['relation_type'] == -1\n",
        "    mask[condition] = 0\n",
        "    dgl_graph.ndata['mask'] = mask\n",
        "\n",
        "    return dgl_graph\n",
        "\n",
        "\n",
        "def predict_discourse(data):\n",
        "\n",
        "\n",
        "    vocab = OrderedDict()\n",
        "    vocab_file =  \"C:/Users/user/Desktop/FYPCode/DPLP/vocab/vocab.txt\"\n",
        "\n",
        "    with open(vocab_file, encoding=\"utf-8\") as vf:\n",
        "        for line in vf.readlines():\n",
        "            line = line.strip()\n",
        "            vocab[line] = len(vocab)\n",
        "\n",
        "    device = th.device(\"cpu\")\n",
        "\n",
        "\n",
        "    model = DiscourseLSTM(\n",
        "        len(vocab),\n",
        "        300, #args.x_size,\n",
        "        150, #args.h_size,\n",
        "        2, #trainset.num_classes,\n",
        "        0.5, #args.dropout,\n",
        "        15, #args.num_relations,\n",
        "        cell_type=\"childsum\" ,\n",
        "    ).to(device)\n",
        "\n",
        "    g = build_tree(data)\n",
        "\n",
        "    DLSTMBatch = collections.namedtuple(\n",
        "        \"DLSTMBatch\", [\"graph\", \"mask\", \"wordid\", \"hierarchy_type\", \"relation_type\"]\n",
        "    )\n",
        "\n",
        "    batch = DLSTMBatch(\n",
        "                graph=g,\n",
        "                mask=g.ndata[\"mask\"].to(device),\n",
        "                wordid=g.ndata[\"x\"].to(device),\n",
        "                hierarchy_type=g.ndata[\"hierarchy_type\"].to(device),\n",
        "                relation_type=g.ndata[\"relation_type\"].to(device),\n",
        "            )\n",
        "\n",
        "\n",
        "    n = g.num_nodes()\n",
        "    #Load the trained DLSTM model\n",
        "    model.load_state_dict(th.load(\"C:/Users/user/Desktop/FYPCode/Discourse LSTM/best_{}.pkl\".format(41)))\n",
        "    model.eval()\n",
        "    with th.no_grad():\n",
        "            h = th.zeros((n, 150)).to(device)\n",
        "            c = th.zeros((n, 150)).to(device)\n",
        "            logits = model(batch, g, h, c)\n",
        "\n",
        "    pred_values= th.sigmoid(logits)\n",
        "\n",
        "    class_0 = []\n",
        "    class_1 = []\n",
        "    for i in pred_values:\n",
        "\n",
        "        pred_val, index = torch.max(i, dim=0)\n",
        "        if index == 0:\n",
        "            class_0.append(pred_val.item())\n",
        "        else:\n",
        "            class_1.append(pred_val.item())\n",
        "\n",
        "\n",
        "    if len(class_1) > len(class_0):\n",
        "        return 1\n",
        "    try:\n",
        "        if max(class_1) > max(class_0):\n",
        "            return 1\n",
        "    except:\n",
        "        pass\n",
        "\n",
        "    if len(class_1) < len(class_0):\n",
        "        return 0\n",
        "    try:\n",
        "        if max(class_1) < max(class_0):\n",
        "            return 0\n",
        "    except:\n",
        "        pass"
      ],
      "metadata": {
        "id": "34bZotPHk4xH"
      },
      "execution_count": null,
      "outputs": []
    },
    {
      "cell_type": "code",
      "source": [
        "import subprocess\n",
        "import shutil\n",
        "import os\n",
        "import glob\n",
        "from combine import combine, File_size_0\n",
        "from predict_discourse import predict_discourse\n",
        "import re\n",
        "\n",
        "def clear_folder():\n",
        "\n",
        "    folder_path = 'C:/Users/user/Desktop/FYPCode/DPLP/Data2'\n",
        "\n",
        "    # Creating a pattern to match all files\n",
        "    file_pattern = os.path.join(folder_path, '*')\n",
        "\n",
        "    # Using glob.glob to get a list of all files\n",
        "    for file in glob.glob(file_pattern):\n",
        "        if os.path.isfile(file):  # Checking if it is a file\n",
        "            os.remove(file)\n",
        "\n",
        "\n",
        "\n",
        "def save_text(text):\n",
        "    # Specify the folder path and the file name\n",
        "    folder_path = \"C:/Users/user/Desktop/FYPCode/DPLP/Data\"  # Replace with the actual folder path\n",
        "    file_name = \"input.txt\"\n",
        "\n",
        "    # Combine the folder path and file name to create the full file path\n",
        "    full_file_path = folder_path + \"/\" + file_name\n",
        "\n",
        "    # Open the file for writing\n",
        "    with open(full_file_path, 'w') as file:\n",
        "        file.write(text)\n",
        "\n",
        "\n",
        "def convert_file_to_xml():\n",
        "    # Define the command as a list of strings\n",
        "    command = [\"python\", \"C:/Users/user/Desktop/FYPCode/DPLP/corenlp.py\"]\n",
        "    # Use subprocess.run() to execute the command\n",
        "    try:\n",
        "        result = subprocess.run(command, stdout=subprocess.PIPE, stderr=subprocess.PIPE, text=True, check=True)\n",
        "\n",
        "    except subprocess.CalledProcessError as e:\n",
        "        pass\n",
        "\n",
        "def move_xml_to_folder():\n",
        "    try:\n",
        "        shutil.move('C:/Users/user/Desktop/FYPCode/Discourse LSTM/input.txt.xml', 'C:/Users/user/Desktop/FYPCode/DPLP/Data2/input.txt.xml')\n",
        "    except:\n",
        "        shutil.move('C:/Users/user/Desktop/FYPCode/DPLP/input.txt.xml', 'C:/Users/user/Desktop/FYPCode/DPLP/Data2/input.txt.xml')\n",
        "\n",
        "\n",
        "def discourse_parsing():\n",
        "    # Define the command as a list of strings\n",
        "    command_1 = [\"py\", \"-2.7\", \"C:/Users/user/Desktop/FYPCode/DPLP/convert.py\", \"C:/Users/user/Desktop/FYPCode/DPLP/Data2\"]\n",
        "    command_2 = [\"py\", \"-2.7\", \"C:/Users/user/Desktop/FYPCode/DPLP/segmenter.py\", \"C:/Users/user/Desktop/FYPCode/DPLP/Data2\"]\n",
        "    command_3 = [\"py\", \"-2.7\", \"C:/Users/user/Desktop/FYPCode/DPLP/rstparser.py\", \"C:/Users/user/Desktop/FYPCode/DPLP/Data2\"]\n",
        "\n",
        "    script_directory = \"C:/Users/user/Desktop/FYPCode/DPLP/\"\n",
        "    os.chdir(script_directory)\n",
        "\n",
        "    # Use subprocess.run() to execute the command\n",
        "    try:\n",
        "        result = subprocess.run(command_1, stdout=subprocess.PIPE, stderr=subprocess.PIPE, text=True, check=True)\n",
        "    except subprocess.CalledProcessError as e:\n",
        "        pass\n",
        "\n",
        "\n",
        "    try:\n",
        "        result = subprocess.run(command_2, stdout=subprocess.PIPE, stderr=subprocess.PIPE, text=True, check=True)\n",
        "    except subprocess.CalledProcessError as e:\n",
        "        pass\n",
        "\n",
        "    try:\n",
        "        result = subprocess.run(command_3, stdout=subprocess.PIPE, stderr=subprocess.PIPE, text=True, check=True)\n",
        "    except subprocess.CalledProcessError as e:\n",
        "        pass\n",
        "\n",
        "\n",
        "def UI_process(text):\n",
        "\n",
        "    filtered_text = re.sub(r'[^a-zA-Z0-9.?!,$\\s]', '', text)\n",
        "    save_text(filtered_text)\n",
        "    convert_file_to_xml()\n",
        "    move_xml_to_folder()\n",
        "    discourse_parsing()\n",
        "    try:\n",
        "        data = combine()\n",
        "    except File_size_0:\n",
        "        raise File_size_0()\n",
        "    pred = predict_discourse(data)\n",
        "    return pred\n",
        "\n",
        "\n"
      ],
      "metadata": {
        "id": "Tiw4z_R_hy0M"
      },
      "execution_count": null,
      "outputs": []
    },
    {
      "cell_type": "code",
      "source": [
        "import streamlit as st\n",
        "from UI_process import UI_process, clear_folder\n",
        "from combine import File_size_0\n",
        "\n",
        "\n",
        "# Title for the Streamlit app\n",
        "st.title('Pressure and Coercion Scam Language Detection WebApp')\n",
        "\n",
        "st.write(\"\")\n",
        "st.write(\"\")\n",
        "\n",
        "\n",
        "\n",
        "st.markdown(\"\"\"\n",
        "    Welcome to the pressure and Coercion Scam Language Detection WebApp!\n",
        "    This application is intended for community use. It aims to help people, especially vulnerable individuals\n",
        "    that are unsure whether the coercive or pressure inducing message that they received are scams message.\n",
        "    This platform could potentially clear your doubtness for you to futher take the case to the authority.\n",
        "    Simply insert the text you received and want to analyze and click 'Check Text'.\n",
        "\"\"\")\n",
        "\n",
        "st.write(\"\")\n",
        "st.write(\"\")\n",
        "# Initialize session state variables\n",
        "if 'user_data' not in st.session_state:\n",
        "    st.session_state.user_data = None\n",
        "if 'counter' not in st.session_state:\n",
        "    st.session_state.counter = 0\n",
        "if 'text_area_content' not in st.session_state:\n",
        "    st.session_state['text_area_content'] = \"\"\n",
        "if 'button_clicked' not in st.session_state:\n",
        "    st.session_state['button_clicked'] = False\n",
        "\n",
        "# Text input for user\n",
        "user_input = st.text_area(\"Insert text to check for scam language:\", value=st.session_state['text_area_content'])\n",
        "\n",
        "# Button to process data\n",
        "\n",
        "if st.button('Check Text'):\n",
        "\n",
        "    if not st.session_state['button_clicked']:\n",
        "\n",
        "        st.session_state['button_clicked'] = True\n",
        "\n",
        "        if (st.session_state.counter>=1):\n",
        "            clear_folder()\n",
        "        st.session_state.user_data = user_input\n",
        "        st.session_state.counter+=1\n",
        "\n",
        "        try:\n",
        "            pred = UI_process(user_input)\n",
        "\n",
        "            if pred == 1:\n",
        "                # If scam language is detected\n",
        "                st.error('Alert: Potential scam message detected that utilized pressure or coercion language.')\n",
        "\n",
        "            else:\n",
        "                # If no scam language is detected\n",
        "                st.success('The message is free from the usage of pressure and coercion to scam.')\n",
        "            st.session_state['button_clicked'] = False\n",
        "\n",
        "        except File_size_0:\n",
        "            st.error('Alert: Current text couldn\\'t be processed due to the sentence it contains. Please insert multiple sentences that is coherence')\n",
        "            st.session_state['button_clicked'] = False"
      ],
      "metadata": {
        "id": "zPvM0Qj5fw24"
      },
      "execution_count": null,
      "outputs": []
    },
    {
      "cell_type": "markdown",
      "source": [
        "##**Outcome**\n",
        "###- Perfect recall and consistent performance across all sets might raise a concern about overfitting\n",
        "###- There are many areas that need improvement, such as:\n",
        "*   Data Collection: More data is needed to build a more accurate model.\n",
        "*   ScamWordNet Lexicon: Improvements on assigning more accurate polarity scores are needed\n",
        "*   Discourse-LSTM: The newly developed algorithm needs more refinement and proof-checking\n",
        "*   User Interface: The model needs to find an appropriate platform to integrate with. The current user interface is not very practical\n",
        "\n",
        "###- With very limited current research on DLSA and an underdeveloped model, it is not yet practical for use in detecting and preventing cyber scams.",
        "\n",
        "\n"
      ],
      "metadata": {
        "id": "D64pnDOpocv6"
      }
    }
  ]
}
